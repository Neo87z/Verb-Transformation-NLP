{
  "cells": [
    {
      "cell_type": "markdown",
      "metadata": {
        "id": "view-in-github",
        "colab_type": "text"
      },
      "source": [
        "<a href=\"https://colab.research.google.com/github/Neo87z/Verb-Transformation-NLP/blob/main/Transform-Verbs.ipynb\" target=\"_parent\"><img src=\"https://colab.research.google.com/assets/colab-badge.svg\" alt=\"Open In Colab\"/></a>"
      ]
    },
    {
      "cell_type": "markdown",
      "metadata": {
        "id": "TZkIi_ntcrvh"
      },
      "source": [
        "**Amasa R.P.D**<br>\n",
        "**IT19135694**<br>\n",
        "\n",
        "---\n",
        "\n",
        "\n",
        ">**Verb Transformation Using Natural Language Processing**\n",
        "\n",
        "\n",
        "---\n",
        "\n",
        "\n",
        "\n"
      ]
    },
    {
      "cell_type": "code",
      "execution_count": null,
      "metadata": {
        "id": "odevIt3ucX3m"
      },
      "outputs": [],
      "source": [
        "#Intsalling The Libraries Required\n",
        "!pip install flask_ngrok\n",
        "!pip install transformers\n",
        "!pip install transformers\n",
        "!pip install pyngrok\n",
        "!pip install firebase\n",
        "!pip install python_jwt\n",
        "!pip install gcloud\n",
        "!pip install sseclient\n",
        "!pip install pycrypto\n",
        "!pip install requests-toolbelt\n",
        "!pip install bert-extractive-summarizer\n",
        "!pip install transformers\n",
        "!pip install -U flask-cors\n",
        "!pip install happytransformer"
      ]
    },
    {
      "cell_type": "code",
      "execution_count": null,
      "metadata": {
        "colab": {
          "base_uri": "https://localhost:8080/"
        },
        "id": "olQjziXX_9hH",
        "outputId": "dc99db94-2f86-44c2-a487-6149674c295b"
      },
      "outputs": [
        {
          "output_type": "stream",
          "name": "stdout",
          "text": [
            "Looking in indexes: https://pypi.org/simple, https://us-python.pkg.dev/colab-wheels/public/simple/\n",
            "Collecting pyinflect\n",
            "  Downloading pyinflect-0.5.1-py3-none-any.whl (703 kB)\n",
            "\u001b[K     |████████████████████████████████| 703 kB 5.1 MB/s \n",
            "\u001b[?25hInstalling collected packages: pyinflect\n",
            "Successfully installed pyinflect-0.5.1\n"
          ]
        }
      ],
      "source": [
        "!pip install  pyinflect"
      ]
    },
    {
      "cell_type": "code",
      "execution_count": null,
      "metadata": {
        "colab": {
          "base_uri": "https://localhost:8080/"
        },
        "id": "zJLxV8sUcdYa",
        "outputId": "f7d54305-24a3-4399-c23a-8500e43b278f"
      },
      "outputs": [
        {
          "output_type": "stream",
          "name": "stderr",
          "text": [
            "Exception in thread _colab_inspector_thread:\n",
            "Traceback (most recent call last):\n",
            "  File \"/usr/lib/python3.7/threading.py\", line 926, in _bootstrap_inner\n",
            "    self.run()\n",
            "  File \"/usr/lib/python3.7/threading.py\", line 870, in run\n",
            "    self._target(*self._args, **self._kwargs)\n",
            "  File \"/usr/local/lib/python3.7/dist-packages/google/colab/_debugpy.py\", line 64, in inspector_thread\n",
            "    _variable_inspector.run(shell, time)\n",
            "  File \"/usr/local/lib/python3.7/dist-packages/google/colab/_variable_inspector.py\", line 27, in run\n",
            "    globals().clear()\n",
            "TypeError: 'module' object is not callable\n",
            "\n"
          ]
        }
      ],
      "source": [
        "import spacy\n",
        "import pyinflect\n",
        "from nltk.corpus import stopwords\n",
        "from nltk.tokenize import word_tokenize, sent_tokenize\n",
        "from string import punctuation\n",
        "from nltk.stem.snowball import SnowballStemmer\n",
        "#Importing the Required Librarires\n",
        "from flask import *\n",
        "from flask_ngrok import run_with_ngrok\n",
        "import json\n",
        "from transformers import pipeline\n",
        "from firebase import firebase\n",
        "from nltk.corpus import stopwords\n",
        "from nltk.tokenize import word_tokenize, sent_tokenize\n",
        "from string import punctuation\n",
        "from nltk.stem.snowball import SnowballStemmer\n",
        "from happytransformer import HappyTextToText\n",
        "from datasets import load_dataset\n",
        "import re"
      ]
    },
    {
      "cell_type": "code",
      "execution_count": null,
      "metadata": {
        "colab": {
          "base_uri": "https://localhost:8080/",
          "height": 209,
          "referenced_widgets": [
            "6c82b93eade146de802a5f2a422fc3d5",
            "d91eb13ef06e4258947205e48360e559",
            "9b753f1eda984a62a98eb0d299d9be00",
            "2c2e7db012644d25ada98af00ac5faa2",
            "cbe36d3dabaa498992831dae9867682d",
            "09a9cdf764fc42cf944517898885b33c",
            "d59d34f017fa49d99027a19b728e01e6",
            "64072600c7e6470ea96cfbc44d9bf976",
            "584efc9582ca4e18bfe206386a6b9ac8",
            "cc29439f41954decb2274093b7899cfa",
            "07497d98783b406abd8dabaf13d32c3c",
            "0ff13415a4e741188ad83ee9a61cca31",
            "8fafa115284440968305ce65e239bdcd",
            "d999398547dc496595cda148ee476b12",
            "1dc7723e8eef464fb17bb9078a395b80",
            "4a53e0b6e93642caa9b87292e7531b56",
            "1ee65602acc64e68b4c5589793ec1f4d",
            "706b8c355ae241d5adbf82f1af7cfe26",
            "d5a65e16967042d9a2a710fe2780d531",
            "1e064af593d44101ba6d68c5c445a712",
            "67fd156d68684e588b2af9e9a5f0ab00",
            "c191418551454e76a5e09b830c1bc338",
            "1ce95830376d42cbbe32a05a1f5bf673",
            "d7dc1e8045914aa3810ab3c5eafcb281",
            "b60a47b0bcea40bdaacb36525214b987",
            "ccadf537fba84aaeaec78df446d2791d",
            "f13442649ed247c581105d6e3c76beaf",
            "15991c686e03480c99e548c2f09169cb",
            "710533ba076d4635803e4c3da4b0c0fc",
            "b2fa05380c964133ac457861412970d3",
            "d090e33f199d448fbf81017a45d74199",
            "9c38b879c39b414e93efef7609680c73",
            "5d0b45a3c1c24b138e2d511c3e006dee",
            "d4bb82aace1e4f63b52fce40397fde7b",
            "bc4bccd6487548349ca55b08a9fcd2b5",
            "369118f13c3a4611a9538d3328806ce3",
            "16c1a8d2b69f460480ac108911c3e4d0",
            "a6bfd10ec9cb4fd398c0879f63658e53",
            "2f880dbf123946239ffe21fd3dd5dac8",
            "d1cf0b5db54f40c78d82e72e991f68bd",
            "2f18dff0e23140feb9f2cf47a16cab12",
            "f74aaae604a7444ca78c42c1d551702e",
            "a647d307fefc4212b06c25635fc98b3e",
            "3c18e22ea830467ab6e1f08f3d211cba",
            "a222cb18affb48babc3f00692fd4e187",
            "5fe28f39f3bb4168946c8826aa041567",
            "093f54cde8a2412699a7eb9c868431ed",
            "f2ba024347e545e8ab03339a4e4abe62",
            "bb74ded09c6e43118620fad4e68570da",
            "03abfdf5cb9f4a7da14262cfb95621eb",
            "967d1181fe1f4bf9af0b5073bd9608d4",
            "ae2d5c317320427ab01967e00ba8712b",
            "74b5f3d6c8b0456ebfa1d13e01bdd6cc",
            "4b2c2f9e25c64d0a82db7cb98500a279",
            "b354e9da2df040f6ab99fd300624af04",
            "39d3447e90884d2fbb1c023b28a1921f",
            "029f029cffed4f08b2d68de7646e5a77",
            "f6e4413038bf4b0998a92c180f1092f3",
            "6cae56ea7910428eaede7824a71e9897",
            "bfd943afbeff4b8a9fdc6873d4a0d1af",
            "59ed43d4abd24dc1aba3efdf0eec0d7c",
            "00709402aba94821b92b56595b9f46a4",
            "4fc9395f74174f8ba82ba9091d096296",
            "d2f627fa4860439a80384c28606b14ee",
            "afd788f88c2a448ba6999f77ef3e0b43",
            "4c728a9bba1943629cf74c694fbc7dec"
          ]
        },
        "id": "cUiDfUpqmNlk",
        "outputId": "431a2fde-c759-46e9-deef-e7f4e2aa5268"
      },
      "outputs": [
        {
          "output_type": "display_data",
          "data": {
            "text/plain": [
              "Downloading:   0%|          | 0.00/1.42k [00:00<?, ?B/s]"
            ],
            "application/vnd.jupyter.widget-view+json": {
              "version_major": 2,
              "version_minor": 0,
              "model_id": "6c82b93eade146de802a5f2a422fc3d5"
            }
          },
          "metadata": {}
        },
        {
          "output_type": "display_data",
          "data": {
            "text/plain": [
              "Downloading:   0%|          | 0.00/892M [00:00<?, ?B/s]"
            ],
            "application/vnd.jupyter.widget-view+json": {
              "version_major": 2,
              "version_minor": 0,
              "model_id": "0ff13415a4e741188ad83ee9a61cca31"
            }
          },
          "metadata": {}
        },
        {
          "output_type": "display_data",
          "data": {
            "text/plain": [
              "Downloading:   0%|          | 0.00/1.92k [00:00<?, ?B/s]"
            ],
            "application/vnd.jupyter.widget-view+json": {
              "version_major": 2,
              "version_minor": 0,
              "model_id": "1ce95830376d42cbbe32a05a1f5bf673"
            }
          },
          "metadata": {}
        },
        {
          "output_type": "display_data",
          "data": {
            "text/plain": [
              "Downloading:   0%|          | 0.00/792k [00:00<?, ?B/s]"
            ],
            "application/vnd.jupyter.widget-view+json": {
              "version_major": 2,
              "version_minor": 0,
              "model_id": "d4bb82aace1e4f63b52fce40397fde7b"
            }
          },
          "metadata": {}
        },
        {
          "output_type": "display_data",
          "data": {
            "text/plain": [
              "Downloading:   0%|          | 0.00/1.39M [00:00<?, ?B/s]"
            ],
            "application/vnd.jupyter.widget-view+json": {
              "version_major": 2,
              "version_minor": 0,
              "model_id": "a222cb18affb48babc3f00692fd4e187"
            }
          },
          "metadata": {}
        },
        {
          "output_type": "display_data",
          "data": {
            "text/plain": [
              "Downloading:   0%|          | 0.00/1.79k [00:00<?, ?B/s]"
            ],
            "application/vnd.jupyter.widget-view+json": {
              "version_major": 2,
              "version_minor": 0,
              "model_id": "39d3447e90884d2fbb1c023b28a1921f"
            }
          },
          "metadata": {}
        }
      ],
      "source": [
        "happy_tt = HappyTextToText(\"T5\", \"vennify/t5-base-grammar-correction\")"
      ]
    },
    {
      "cell_type": "code",
      "execution_count": null,
      "metadata": {
        "id": "YR6cqYFkoPtH"
      },
      "outputs": [],
      "source": [
        "from happytransformer import TTSettings\n",
        "beam_settings =  TTSettings(num_beams=5, min_length=1, max_length=20)"
      ]
    },
    {
      "cell_type": "code",
      "execution_count": null,
      "metadata": {
        "colab": {
          "base_uri": "https://localhost:8080/"
        },
        "id": "0NHkHfGgoVrN",
        "outputId": "0c9fd554-2d1d-492a-8455-a61f6b0c36cc"
      },
      "outputs": [
        {
          "output_type": "stream",
          "name": "stdout",
          "text": [
            "I bought ten apples.\n"
          ]
        }
      ],
      "source": [
        "beam_settings =  TTSettings(num_beams=5, min_length=1, max_length=20)\n",
        "result = happy_tt.generate_text(\"grammar: I             boughts ten apple.\", args=beam_settings)\n",
        "print(result.text)"
      ]
    },
    {
      "cell_type": "code",
      "execution_count": null,
      "metadata": {
        "id": "OSHpcmdfddyw"
      },
      "outputs": [],
      "source": [
        "#Creating the FLASK API Application\n",
        "from flask_cors import CORS\n",
        "app=Flask(__name__)\n",
        "cors = CORS(app)"
      ]
    },
    {
      "cell_type": "code",
      "execution_count": null,
      "metadata": {
        "id": "nq6cJnPAjUAB"
      },
      "outputs": [],
      "source": [
        "nlp = spacy.load(\"en_core_web_sm\")"
      ]
    },
    {
      "cell_type": "markdown",
      "metadata": {
        "id": "IRXNYjDVmXwg"
      },
      "source": [
        "---\n",
        "\n",
        "\n",
        ">**Common Functions**\n",
        "\n",
        "\n",
        "---"
      ]
    },
    {
      "cell_type": "code",
      "execution_count": null,
      "metadata": {
        "id": "G-jic8bimdVB"
      },
      "outputs": [],
      "source": [
        "def get_subject_phrase(doc):\n",
        "    for token in doc:\n",
        "        if (\"subj\" in token.dep_):\n",
        "            subtree = list(token.subtree)\n",
        "            start = subtree[0].i\n",
        "            end = subtree[-1].i + 1\n",
        "            return doc[start:end]\n",
        "\n",
        "\n",
        "\n",
        "def get_object_phrase(doc):\n",
        "    for token in doc:\n",
        "        if (\"dobj\" in token.dep_):\n",
        "            subtree = list(token.subtree)\n",
        "            start = subtree[0].i\n",
        "            end = subtree[-1].i + 1\n",
        "            return doc[start:end]"
      ]
    },
    {
      "cell_type": "code",
      "execution_count": null,
      "metadata": {
        "colab": {
          "base_uri": "https://localhost:8080/"
        },
        "id": "5iSrT5QFQVgX",
        "outputId": "dd7a80da-c8e5-4cea-de34-87db51e8ada1"
      },
      "outputs": [
        {
          "output_type": "stream",
          "name": "stdout",
          "text": [
            "The big black cat\n",
            "None\n"
          ]
        }
      ],
      "source": [
        "Text=\"The big black cat stared at the small dog.\"\n",
        "doc = nlp(Text)\n",
        "subject_phrase = get_subject_phrase(doc)\n",
        "object_phrase = get_object_phrase(doc)\n",
        "print(subject_phrase)\n",
        "print(object_phrase)"
      ]
    },
    {
      "cell_type": "markdown",
      "metadata": {
        "id": "JoRgaiOpmcN_"
      },
      "source": [
        "\n",
        "---\n",
        "  \n",
        "\n",
        "\n",
        "  \n",
        "\n",
        "---"
      ]
    },
    {
      "cell_type": "markdown",
      "metadata": {
        "id": "OFFjENSPnpkH"
      },
      "source": [
        "---\n",
        "\n",
        "\n",
        ">**Simple Tenses Functions**\n",
        "\n",
        "\n",
        "---"
      ]
    },
    {
      "cell_type": "markdown",
      "metadata": {
        "id": "fLJDViExkJhA"
      },
      "source": [
        "---\n",
        "\n",
        "\n",
        ">**Function to Change Simple Present Tensee to Simple Past Tense**\n",
        "\n",
        "\n",
        "---"
      ]
    },
    {
      "cell_type": "code",
      "execution_count": null,
      "metadata": {
        "id": "0PGNxTiljL3A"
      },
      "outputs": [],
      "source": [
        "def ChangeToSimplePast(text):\n",
        "  doc_dep = nlp(text)\n",
        "  for i in range(len(doc_dep)):\n",
        "    token = doc_dep[i]\n",
        "    if token.tag_ in ['VBP', 'VBZ']:\n",
        "      text = text.replace(token.text, token._.inflect(\"VBD\"))\n",
        "  return text"
      ]
    },
    {
      "cell_type": "code",
      "execution_count": null,
      "metadata": {
        "colab": {
          "base_uri": "https://localhost:8080/"
        },
        "id": "W9r-voTlnSLV",
        "outputId": "254290d2-80af-4c16-d214-6104ec18f993"
      },
      "outputs": [
        {
          "output_type": "stream",
          "name": "stdout",
          "text": [
            "who looked aftders      sick people?\n",
            "I bought ten apples.\n"
          ]
        }
      ],
      "source": [
        "data=ChangeToSimplePast(\"who looks aftders      sick people?\")\n",
        "print(data)\n",
        "\n",
        "print(result.text)\n"
      ]
    },
    {
      "cell_type": "code",
      "execution_count": null,
      "metadata": {
        "colab": {
          "base_uri": "https://localhost:8080/",
          "height": 35
        },
        "id": "krBRVFG5otdZ",
        "outputId": "d0f9d79c-630b-4c52-adad-b5ba1f9d5f07"
      },
      "outputs": [
        {
          "output_type": "execute_result",
          "data": {
            "text/plain": [
              "'you looked beautifull'"
            ],
            "application/vnd.google.colaboratory.intrinsic+json": {
              "type": "string"
            }
          },
          "metadata": {},
          "execution_count": 13
        }
      ],
      "source": [
        "ChangeToSimplePast(\"you looks beautifull\")"
      ]
    },
    {
      "cell_type": "markdown",
      "metadata": {
        "id": "UYE3LimGkURQ"
      },
      "source": [
        "\n",
        "---\n",
        "  \n",
        "\n",
        "\n",
        "  \n",
        "\n",
        "---"
      ]
    },
    {
      "cell_type": "markdown",
      "metadata": {
        "id": "6KtfTy5VkeDA"
      },
      "source": [
        "---\n",
        "\n",
        "\n",
        ">**Function to Change Simple Past Tensee to Simple Present Tense**\n",
        "\n",
        "\n",
        "---"
      ]
    },
    {
      "cell_type": "code",
      "execution_count": null,
      "metadata": {
        "id": "fpSNeJCwkkI3"
      },
      "outputs": [],
      "source": [
        "def ChnageToSimplePresent(text):\n",
        "  doc_dep = nlp(text)\n",
        "  for i in range(len(doc_dep)):\n",
        "      token = doc_dep[i]\n",
        "      if token.tag_ in ['', 'VBZ','VBD']:\n",
        "          text = text.replace(token.text, token._.inflect(\"VBP\"))\n",
        "  return text"
      ]
    },
    {
      "cell_type": "code",
      "execution_count": null,
      "metadata": {
        "colab": {
          "base_uri": "https://localhost:8080/",
          "height": 35
        },
        "id": "3ccKoBT6rJRc",
        "outputId": "9061c214-5b17-4c34-b64a-abfb3caf7fb1"
      },
      "outputs": [
        {
          "output_type": "execute_result",
          "data": {
            "text/plain": [
              "'I don’t know the answer.'"
            ],
            "application/vnd.google.colaboratory.intrinsic+json": {
              "type": "string"
            }
          },
          "metadata": {},
          "execution_count": 15
        }
      ],
      "source": [
        "ChnageToSimplePresent(\"I don’t know the answer.\")"
      ]
    },
    {
      "cell_type": "code",
      "execution_count": null,
      "metadata": {
        "colab": {
          "base_uri": "https://localhost:8080/",
          "height": 35
        },
        "id": "o7HYEKiIpBta",
        "outputId": "8e615b46-1eb1-48f1-9f48-ca69b3a64ec1"
      },
      "outputs": [
        {
          "output_type": "execute_result",
          "data": {
            "text/plain": [
              "'you look beautifull'"
            ],
            "application/vnd.google.colaboratory.intrinsic+json": {
              "type": "string"
            }
          },
          "metadata": {},
          "execution_count": 16
        }
      ],
      "source": [
        "ChnageToSimplePresent(\"you looked beautifull\")"
      ]
    },
    {
      "cell_type": "markdown",
      "metadata": {
        "id": "E88K5IelkhvI"
      },
      "source": [
        "---\n",
        "\n",
        "\n",
        ">\n",
        "\n",
        "\n",
        "---"
      ]
    },
    {
      "cell_type": "markdown",
      "metadata": {
        "id": "FjFSfaDal2RI"
      },
      "source": [
        "---\n",
        "\n",
        "\n",
        ">**Function to Change Simple Present Tense to Simple Future Tense**\n",
        "\n",
        "\n",
        "---"
      ]
    },
    {
      "cell_type": "code",
      "execution_count": null,
      "metadata": {
        "id": "pQgpZ_2CmA9m"
      },
      "outputs": [],
      "source": [
        "def ChangeToSimpleFutureTense(Text):\n",
        "  doc = nlp(Text)\n",
        "  subject_phrase = get_subject_phrase(doc)\n",
        "  object_phrase = get_object_phrase(doc)\n",
        "  PresentToFuture=str(subject_phrase)\n",
        "  SubjectStripped= Text.strip(PresentToFuture)\n",
        "  newStringgg=PresentToFuture+ \" will \" + SubjectStripped\n",
        "  return newStringgg\n"
      ]
    },
    {
      "cell_type": "code",
      "execution_count": null,
      "metadata": {
        "colab": {
          "base_uri": "https://localhost:8080/",
          "height": 35
        },
        "id": "OLcBqO2Qy5Op",
        "outputId": "b8bf23cb-ec17-49b2-bf63-a6c78170b4fb"
      },
      "outputs": [
        {
          "output_type": "execute_result",
          "data": {
            "text/plain": [
              "'we will Don’t we have to report this matter?'"
            ],
            "application/vnd.google.colaboratory.intrinsic+json": {
              "type": "string"
            }
          },
          "metadata": {},
          "execution_count": 14
        }
      ],
      "source": [
        "ChangeToSimpleFutureTense(\"Don’t we have to report this matter?\")"
      ]
    },
    {
      "cell_type": "code",
      "execution_count": null,
      "metadata": {
        "colab": {
          "base_uri": "https://localhost:8080/",
          "height": 35
        },
        "id": "O9rZTfVXpMp5",
        "outputId": "fe96f9a1-c427-4aea-eab0-9b98ff956e44"
      },
      "outputs": [
        {
          "output_type": "execute_result",
          "data": {
            "text/plain": [
              "'She will earn a living be writting stories'"
            ],
            "application/vnd.google.colaboratory.intrinsic+json": {
              "type": "string"
            }
          },
          "metadata": {},
          "execution_count": 19
        }
      ],
      "source": [
        "ChangeToSimpleFutureTense(\"She earn a living be writting stories\")"
      ]
    },
    {
      "cell_type": "code",
      "execution_count": null,
      "metadata": {
        "colab": {
          "base_uri": "https://localhost:8080/"
        },
        "id": "Q6Qabrrb1-io",
        "outputId": "509923dc-457f-499d-d192-49fb80e9fee8"
      },
      "outputs": [
        {
          "output_type": "stream",
          "name": "stdout",
          "text": [
            "<class 'spacy.tokens.doc.Doc'>\n"
          ]
        }
      ],
      "source": [
        " doc = nlp(\"Text\")\n",
        " print (type(doc))"
      ]
    },
    {
      "cell_type": "code",
      "execution_count": null,
      "metadata": {
        "colab": {
          "base_uri": "https://localhost:8080/",
          "height": 35
        },
        "id": "gEKnI5vB0sRp",
        "outputId": "5c3a49c5-831e-4a42-e449-d63fc8642634"
      },
      "outputs": [
        {
          "output_type": "execute_result",
          "data": {
            "text/plain": [
              "'We studied english'"
            ],
            "application/vnd.google.colaboratory.intrinsic+json": {
              "type": "string"
            }
          },
          "metadata": {},
          "execution_count": 21
        }
      ],
      "source": [
        "ChangeToSimplePast(\"We study english\")"
      ]
    },
    {
      "cell_type": "markdown",
      "metadata": {
        "id": "Ord_cTgVl_0_"
      },
      "source": [
        "---\n",
        "\n",
        "\n",
        ">\n",
        "\n",
        "\n",
        "---"
      ]
    },
    {
      "cell_type": "markdown",
      "metadata": {
        "id": "xcZl5Fm0njXv"
      },
      "source": [
        "---\n",
        "\n",
        "\n",
        ">**End Simple Tenses Functions**\n",
        "\n",
        "\n",
        "---"
      ]
    },
    {
      "cell_type": "markdown",
      "metadata": {
        "id": "ggDlYQTCoCZH"
      },
      "source": [
        "---\n",
        "\n",
        "\n",
        ">**Continous Tenses Functions**\n",
        "\n",
        "\n",
        "---"
      ]
    },
    {
      "cell_type": "markdown",
      "metadata": {
        "id": "EYCZC8qUoHsP"
      },
      "source": [
        "---\n",
        "\n",
        "\n",
        ">**Function to Chnage Contnous Present To Continous Past**\n",
        "\n",
        "\n",
        "---"
      ]
    },
    {
      "cell_type": "code",
      "execution_count": null,
      "metadata": {
        "id": "zibfXJMt8hma"
      },
      "outputs": [],
      "source": [
        "def ChangeASentenceToPresentConitnousPositive(text):\n",
        "  doc = nlp(text)\n",
        "  sub=(get_subject_phrase(doc))\n",
        "  SplitedText=text.split()\n",
        "  NewText=\"\"\n",
        "  subject=str(sub)\n",
        "  if(subject != \"I\"):\n",
        "    for x in range (0,len(SplitedText)):\n",
        "      if(SplitedText[x] == 'were'):\n",
        "        NewText=text.replace(\"were\",\"are\")\n",
        "\n",
        "      if(SplitedText[x] == 'was'):\n",
        "        NewText=text.replace(\"was\",\"is\")\n",
        "  else:\n",
        "    NewText=text.replace(\"was\",\"am\")\n",
        "\n",
        "  return (NewText)\n"
      ]
    },
    {
      "cell_type": "code",
      "execution_count": null,
      "metadata": {
        "colab": {
          "base_uri": "https://localhost:8080/",
          "height": 35
        },
        "id": "36rrtt_e8wF5",
        "outputId": "6018d17a-a3cd-460f-92c3-0da32d917cf6"
      },
      "outputs": [
        {
          "output_type": "execute_result",
          "data": {
            "text/plain": [
              "'It is raining when you came.'"
            ],
            "application/vnd.google.colaboratory.intrinsic+json": {
              "type": "string"
            }
          },
          "metadata": {},
          "execution_count": 26
        }
      ],
      "source": [
        "ChangeASentenceToPresentConitnousPositive(\"It was raining when you came.\")"
      ]
    },
    {
      "cell_type": "code",
      "execution_count": null,
      "metadata": {
        "id": "eUSZJEE5-kRk"
      },
      "outputs": [],
      "source": [
        "def ChangeASentenceToPresentConitnousPositiveInterogative(text):\n",
        "  text.lower()\n",
        "  doc = nlp(text)\n",
        " \n",
        "  sub=(get_subject_phrase(doc))\n",
        "  SplitedText=text.split()\n",
        "  NewText=\"\"\n",
        "  subject=str(sub)\n",
        "  print(SplitedText[1])\n",
        "  if(SplitedText[1] == 'I' or SplitedText[1] == 'i' or SplitedText[1] == 'you' or SplitedText[1] == 'You'):\n",
        "    if(SplitedText[0]== 'Were' or SplitedText[0]== 'Were'):\n",
        "      print(\"ass2\")\n",
        "      if(SplitedText[0] == 'Were'):\n",
        "        NewText=text.replace(\"Were\",\"Are\")\n",
        "      \n",
        "    else:\n",
        "      if(SplitedText[0]== 'Was' or SplitedText[0]== 'was'):\n",
        "        print(\"ass\")\n",
        "\n",
        "        NewText=text.replace(\"Was\",\"Am\")\n",
        "     \n",
        "  else:\n",
        "    print(subject)\n",
        "    if(SplitedText[0] == 'Was'):\n",
        "      NewText=text.replace(\"Was\",\"Is\")\n",
        "    if (SplitedText[0] == 'Were'):\n",
        "      NewText=text.replace(\"Were\",\"Are\")\n",
        "    if (SplitedText[0] == 'was'):\n",
        "      NewText=text.replace(\"was\",\"Is\")\n",
        "    if (SplitedText[0] == 'were'):\n",
        "      NewText=text.replace(\"were\",\"Are\")\n",
        "      \n",
        "\n",
        "    \n",
        "\n",
        "\n",
        "  return (NewText)\n",
        "\n"
      ]
    },
    {
      "cell_type": "code",
      "execution_count": null,
      "metadata": {
        "colab": {
          "base_uri": "https://localhost:8080/",
          "height": 70
        },
        "id": "1PbVWAiM-tt_",
        "outputId": "6bdc07b5-bb32-442a-a281-d1e7be2f0f47"
      },
      "outputs": [
        {
          "output_type": "stream",
          "name": "stdout",
          "text": [
            "it\n",
            "it\n"
          ]
        },
        {
          "output_type": "execute_result",
          "data": {
            "text/plain": [
              "'Is it raining when you came?'"
            ],
            "application/vnd.google.colaboratory.intrinsic+json": {
              "type": "string"
            }
          },
          "metadata": {},
          "execution_count": 25
        }
      ],
      "source": [
        "ChangeASentenceToPresentConitnousPositiveInterogative(\"Was it raining when you came?\")"
      ]
    },
    {
      "cell_type": "code",
      "execution_count": null,
      "metadata": {
        "id": "VY1YayxtH4rb"
      },
      "outputs": [],
      "source": [
        "def ChangeSentenceToPastContinous(text):\n",
        "  DataXXX=text\n",
        "  DataXXX=DataXXX.split(\" \")\n",
        "  doc_dep = nlp(text)\n",
        "  for i in range(len(doc_dep)):\n",
        "      token = doc_dep[i]\n",
        "      if token.tag_ in ['VBP', 'VBZ']:\n",
        "          \n",
        "          text = text.replace(token.text, token._.inflect(\"VBD\"))\n",
        "\n",
        "\n",
        "  for x in range (0,len(DataXXX)):\n",
        "      if(DataXXX[x] == 'are'):\n",
        "        \n",
        "          text=text.replace(\"was\",\"were\")\n",
        "\n",
        "  \n",
        "\n",
        "\n",
        "  return text"
      ]
    },
    {
      "cell_type": "code",
      "execution_count": null,
      "metadata": {
        "colab": {
          "base_uri": "https://localhost:8080/",
          "height": 35
        },
        "id": "MyKe32jBIG3E",
        "outputId": "166cb078-b82b-4e54-dba4-917e0f6058d2"
      },
      "outputs": [
        {
          "output_type": "execute_result",
          "data": {
            "text/plain": [
              "'You were doing it wrong.'"
            ],
            "application/vnd.google.colaboratory.intrinsic+json": {
              "type": "string"
            }
          },
          "metadata": {},
          "execution_count": 27
        }
      ],
      "source": [
        "ChangeSentenceToPastContinous('You are doing it wrong.')"
      ]
    },
    {
      "cell_type": "code",
      "execution_count": null,
      "metadata": {
        "id": "ZVmbDRcPoNlX"
      },
      "outputs": [],
      "source": [
        "def ChangeASentenceToPastConitnousPositiveInterogative(text):\n",
        "  text.lower()\n",
        "  doc = nlp(text)\n",
        " \n",
        "  sub=(get_subject_phrase(doc))\n",
        "  SplitedText=text.split()\n",
        "  NewText=\"\"\n",
        "  subject=str(sub)\n",
        "  print(SplitedText[1])\n",
        "  if(SplitedText[1] == 'I' or SplitedText[1] == 'i' or SplitedText[1] == 'you' or SplitedText[1] == 'You'):\n",
        "    if(SplitedText[0]== 'Are' or SplitedText[0]== 'are'):\n",
        "      print(\"ass2\")\n",
        "      if(SplitedText[0] == 'Are'):\n",
        "        NewText=text.replace(\"Are\",\"Were\")\n",
        "      \n",
        "    else:\n",
        "      if(SplitedText[0]== 'am' or SplitedText[0]== 'Am'):\n",
        "        print(\"ass\")\n",
        "\n",
        "        NewText=text.replace(\"Am\",\"Was\")\n",
        "     \n",
        "  else:\n",
        "    print(subject)\n",
        "    if(SplitedText[0] == 'Is'):\n",
        "      NewText=text.replace(\"Is\",\"Was\")\n",
        "    if (SplitedText[0] == 'Are'):\n",
        "      NewText=text.replace(\"Are\",\"Were\")\n",
        "    if (SplitedText[0] == 'are'):\n",
        "      NewText=text.replace(\"are\",\"Were\")\n",
        "    if (SplitedText[0] == 'is'):\n",
        "      NewText=text.replace(\"Is\",\"was\")\n",
        "      \n",
        "\n",
        "    \n",
        "\n",
        "\n",
        "  return (NewText)\n",
        "\n"
      ]
    },
    {
      "cell_type": "code",
      "execution_count": null,
      "metadata": {
        "colab": {
          "base_uri": "https://localhost:8080/",
          "height": 70
        },
        "id": "YMbJoE8O2cUt",
        "outputId": "a7d87404-a570-4e62-a1a0-49d0dd504c2e"
      },
      "outputs": [
        {
          "output_type": "stream",
          "name": "stdout",
          "text": [
            "he\n",
            "he\n"
          ]
        },
        {
          "output_type": "execute_result",
          "data": {
            "text/plain": [
              "'Was he playing tennis?'"
            ],
            "application/vnd.google.colaboratory.intrinsic+json": {
              "type": "string"
            }
          },
          "metadata": {},
          "execution_count": 29
        }
      ],
      "source": [
        "ChangeASentenceToPastConitnousPositiveInterogative('Is he playing tennis?')"
      ]
    },
    {
      "cell_type": "code",
      "execution_count": null,
      "metadata": {
        "id": "wcQamM0apVTS"
      },
      "outputs": [],
      "source": []
    },
    {
      "cell_type": "markdown",
      "metadata": {
        "id": "q4n8kbcjo1EQ"
      },
      "source": [
        "---\n",
        "\n",
        "\n",
        ">\n",
        "\n",
        "\n",
        "---"
      ]
    },
    {
      "cell_type": "markdown",
      "metadata": {
        "id": "nuE0E62vo2hP"
      },
      "source": [
        "---\n",
        "\n",
        "\n",
        ">**Function to Chnage Contnous Present To Continous Past**\n",
        "\n",
        "\n",
        "---"
      ]
    },
    {
      "cell_type": "markdown",
      "metadata": {
        "id": "XwlJn5Fio4SH"
      },
      "source": [
        "---\n",
        "\n",
        "\n",
        ">\n",
        "\n",
        "\n",
        "---"
      ]
    },
    {
      "cell_type": "markdown",
      "metadata": {
        "id": "VdR7K9BishNn"
      },
      "source": [
        "---\n",
        "\n",
        "\n",
        ">**Function to Chnage Contnous Present To Continous Future**\n",
        "\n",
        "\n",
        "---"
      ]
    },
    {
      "cell_type": "code",
      "execution_count": null,
      "metadata": {
        "id": "NHvJrdDMsmGe"
      },
      "outputs": [],
      "source": [
        "def ChangeContinousPresentToFuture(text):\n",
        "  doc = nlp(text)\n",
        "  text=text.replace(\"is\",\"Will be\")\n",
        "  text=text.replace(\"am\",\"Will be\")\n",
        "  text=text.replace(\"are\",\"Will be\")\n",
        "  return (text)\n"
      ]
    },
    {
      "cell_type": "code",
      "execution_count": null,
      "metadata": {
        "id": "9JfIaVDkJ1ti"
      },
      "outputs": [],
      "source": [
        "def ChangeToContinousFutureInt(text):\n",
        "  doc = nlp(text)\n",
        "  sub=(get_subject_phrase(doc))\n",
        "  SplitedText=text.split()\n",
        "  NewText=\"\"\n",
        "  subject=str(sub)\n",
        "  text=text.replace(\"Is\",\"Will\")\n",
        "  text=text.replace(\"Am\",\"Will\")\n",
        "  text=text.replace(\"Are\",\"Will\")\n",
        "  data=text.split(\" \")\n",
        "  print(subject)\n",
        "  for x in range(0,len(data)):\n",
        "    if(data[x] ==subject ):\n",
        "      data[x]=data[x]+' be'\n",
        "  textData=\"\"\n",
        "  for x in range(0,len(data)):\n",
        "    textData=textData+\" \"+data[x]\n",
        "  return (textData)\n"
      ]
    },
    {
      "cell_type": "code",
      "execution_count": null,
      "metadata": {
        "colab": {
          "base_uri": "https://localhost:8080/",
          "height": 53
        },
        "id": "M-bYWSgL3XAT",
        "outputId": "5b7ac792-1a61-4ea9-f608-282543931694"
      },
      "outputs": [
        {
          "output_type": "stream",
          "name": "stdout",
          "text": [
            "I\n"
          ]
        },
        {
          "output_type": "execute_result",
          "data": {
            "text/plain": [
              "' Will I be reading a newspaper?'"
            ],
            "application/vnd.google.colaboratory.intrinsic+json": {
              "type": "string"
            }
          },
          "metadata": {},
          "execution_count": 32
        }
      ],
      "source": [
        "ChangeToContinousFutureInt(\"Am I reading a newspaper?\")"
      ]
    },
    {
      "cell_type": "code",
      "execution_count": null,
      "metadata": {
        "colab": {
          "base_uri": "https://localhost:8080/",
          "height": 35
        },
        "id": "nC2b0Iquq6i5",
        "outputId": "b6b87aac-e8c5-4074-b810-9d1e4d4c31ff"
      },
      "outputs": [
        {
          "output_type": "execute_result",
          "data": {
            "text/plain": [
              "'He Will be writting artciles on different topics'"
            ],
            "application/vnd.google.colaboratory.intrinsic+json": {
              "type": "string"
            }
          },
          "metadata": {},
          "execution_count": 33
        }
      ],
      "source": [
        "ChangeContinousPresentToFuture(\"He is writting artciles on different topics\")"
      ]
    },
    {
      "cell_type": "code",
      "execution_count": null,
      "metadata": {
        "id": "5sMRiMqhJ2RZ"
      },
      "outputs": [],
      "source": [
        "def ChangePresentPerfectToPastPefect(text):\n",
        "  doc=nlp(text)\n",
        "  sub=(get_subject_phrase(doc))\n",
        "  subject=str(sub)\n",
        "  text=text.replace(\"have\",\"had\")\n",
        "  text=text.replace(\"has\",\"had\")\n",
        "  return (text)\n"
      ]
    },
    {
      "cell_type": "code",
      "execution_count": null,
      "metadata": {
        "id": "xoRyd3JXXiiB"
      },
      "outputs": [],
      "source": [
        "def ChangePresentPerfectToPastPefectInG(text):\n",
        "  doc=nlp(text)\n",
        "  sub=(get_subject_phrase(doc))\n",
        "  subject=str(sub)\n",
        "  text=text.replace(\"Have\",\"had\")\n",
        "  text=text.replace(\"Has\",\"had\")\n",
        "  return (text)\n"
      ]
    },
    {
      "cell_type": "code",
      "execution_count": null,
      "metadata": {
        "colab": {
          "base_uri": "https://localhost:8080/",
          "height": 35
        },
        "id": "inlqLQpxV_eF",
        "outputId": "58462cac-33c1-4611-9759-54274a886ce7"
      },
      "outputs": [
        {
          "output_type": "execute_result",
          "data": {
            "text/plain": [
              "'had she finished her work?'"
            ],
            "application/vnd.google.colaboratory.intrinsic+json": {
              "type": "string"
            }
          },
          "metadata": {},
          "execution_count": 36
        }
      ],
      "source": [
        "ChangePresentPerfectToPastPefectInG(\"Has she finished her work?\")"
      ]
    },
    {
      "cell_type": "code",
      "execution_count": null,
      "metadata": {
        "id": "CMclEw44M8k2"
      },
      "outputs": [],
      "source": [
        "def ChnagePastPerfectTOPresentPerfect(text):\n",
        "  text.lower()\n",
        "  doc=nlp(text)\n",
        "\n",
        "  sub=(get_subject_phrase(doc))\n",
        "  subject=str(sub)\n",
        "  subject=subject.lower()\n",
        "  print(subject)\n",
        "  \n",
        "  if(subject == 'he' or subject =='she'):\n",
        "    text=text.replace(\"had\",\"has\")\n",
        "  else:\n",
        "    text=text.replace(\"had\",\"have\")\n",
        "  \n",
        "  return text\n",
        "\n"
      ]
    },
    {
      "cell_type": "code",
      "execution_count": null,
      "metadata": {
        "colab": {
          "base_uri": "https://localhost:8080/"
        },
        "id": "zuX4TGmA5En0",
        "outputId": "31f4d1ba-b6ab-47d5-f8af-d1a68dc109a0"
      },
      "outputs": [
        {
          "output_type": "stream",
          "name": "stdout",
          "text": [
            "i\n",
            "I have not finished my work\n"
          ]
        }
      ],
      "source": [
        "print(ChnagePastPerfectTOPresentPerfect(\"I had not finished my work\"))"
      ]
    },
    {
      "cell_type": "code",
      "execution_count": null,
      "metadata": {
        "id": "wjy-7dGjWL0w"
      },
      "outputs": [],
      "source": [
        "def ChnagePastPerfectTOPresentPerfectIntorrgative(text):\n",
        "  text.lower()\n",
        "  doc=nlp(text)\n",
        "\n",
        "  sub=(get_subject_phrase(doc))\n",
        "  subject=str(sub)\n",
        "  subject=subject.lower()\n",
        "  print(subject)\n",
        "  \n",
        "  if(subject == 'he' or subject =='she'):\n",
        "\n",
        "    text=text.replace(\"Had\",\"has\")\n",
        "  else:\n",
        "    print(\"Hss\")\n",
        "    text=text.replace(\"Had\",\"have\")\n",
        "  \n",
        "  return text\n"
      ]
    },
    {
      "cell_type": "code",
      "execution_count": null,
      "metadata": {
        "id": "8bfz5VTfbXu7"
      },
      "outputs": [],
      "source": [
        "def chnageToFuturePerftec(text):\n",
        "  text=text.replace(\"have\",\"will\")\n",
        "  text=text.replace(\"has\",\"will\")\n",
        "  return text\n"
      ]
    },
    {
      "cell_type": "code",
      "source": [
        "chnageToFuturePerftec(\"I have finished my work.\")"
      ],
      "metadata": {
        "colab": {
          "base_uri": "https://localhost:8080/",
          "height": 35
        },
        "id": "oPXe94dFIlC8",
        "outputId": "cd2fbbe2-e26e-45e1-b665-40f9ef747bf8"
      },
      "execution_count": null,
      "outputs": [
        {
          "output_type": "execute_result",
          "data": {
            "text/plain": [
              "'I will finished my work.'"
            ],
            "application/vnd.google.colaboratory.intrinsic+json": {
              "type": "string"
            }
          },
          "metadata": {},
          "execution_count": 20
        }
      ]
    },
    {
      "cell_type": "code",
      "execution_count": null,
      "metadata": {
        "id": "ZHX7mvUkbosc"
      },
      "outputs": [],
      "source": [
        "def chnageToFuturePerftecINTG(text):\n",
        "  doc = nlp(text)\n",
        "  sub=(get_subject_phrase(doc))\n",
        "  SplitedText=text.split()\n",
        "  NewText=\"\"\n",
        "  subject=str(sub)\n",
        "  print(subject)\n",
        "  text=text.replace(subject,\"\")\n",
        "  text=text.replace(\"Has\",\"have\")\n",
        "  text=\"Will \"+subject +\" \"+text\n",
        "\n",
        "  return (text)"
      ]
    },
    {
      "cell_type": "code",
      "execution_count": null,
      "metadata": {
        "colab": {
          "base_uri": "https://localhost:8080/"
        },
        "id": "MkMwMvUMKs8I",
        "outputId": "10ff4a20-6e34-4f16-d514-c96d04f79033"
      },
      "outputs": [
        {
          "output_type": "stream",
          "name": "stdout",
          "text": [
            "he\n",
            "Will he have  finisd his work?\n"
          ]
        }
      ],
      "source": [
        "print(chnageToFuturePerftecINTG(\"Has he finished his work?\"))"
      ]
    },
    {
      "cell_type": "markdown",
      "metadata": {
        "id": "obwSaAgaslf_"
      },
      "source": [
        "---\n",
        "\n",
        "\n",
        ">\n",
        "\n",
        "\n",
        "---"
      ]
    },
    {
      "cell_type": "code",
      "execution_count": null,
      "metadata": {
        "colab": {
          "base_uri": "https://localhost:8080/"
        },
        "id": "XqWuT0Ni5m1q",
        "outputId": "f1d5b52a-482e-4abb-82d0-e431386c8a9a"
      },
      "outputs": [
        {
          "output_type": "stream",
          "name": "stdout",
          "text": [
            "children had completed her assignment before everyone else even started\n"
          ]
        }
      ],
      "source": [
        "print(ChangePresentPerfectToPastPefect(\"children have completed her assignment before everyone else even started\"))"
      ]
    },
    {
      "cell_type": "code",
      "execution_count": null,
      "metadata": {
        "colab": {
          "base_uri": "https://localhost:8080/"
        },
        "id": "zNKVdGt7jk2o",
        "outputId": "944ca274-0fe6-4d30-b257-15ae8a4e4d0e"
      },
      "outputs": [
        {
          "output_type": "stream",
          "name": "stdout",
          "text": [
            "She had completed her assignment before everyone else even started\n"
          ]
        }
      ],
      "source": [
        "print(ChangePresentPerfectToPastPefect(\"She has completed her assignment before everyone else even started\"))"
      ]
    },
    {
      "cell_type": "code",
      "execution_count": null,
      "metadata": {
        "colab": {
          "base_uri": "https://localhost:8080/",
          "height": 165
        },
        "id": "IyhlTTuFPbYU",
        "outputId": "cabaf05f-fb14-4296-a0c9-359d3bf863e4"
      },
      "outputs": [
        {
          "output_type": "error",
          "ename": "NameError",
          "evalue": "ignored",
          "traceback": [
            "\u001b[0;31m---------------------------------------------------------------------------\u001b[0m",
            "\u001b[0;31mNameError\u001b[0m                                 Traceback (most recent call last)",
            "\u001b[0;32m<ipython-input-45-f73ab85bc3b7>\u001b[0m in \u001b[0;36m<module>\u001b[0;34m\u001b[0m\n\u001b[0;32m----> 1\u001b[0;31m \u001b[0mprint\u001b[0m\u001b[0;34m(\u001b[0m\u001b[0mChnageToFuturePefect\u001b[0m\u001b[0;34m(\u001b[0m\u001b[0;34m\"She has completed her assignment before everyone else even started.\"\u001b[0m\u001b[0;34m)\u001b[0m\u001b[0;34m)\u001b[0m\u001b[0;34m\u001b[0m\u001b[0;34m\u001b[0m\u001b[0m\n\u001b[0m",
            "\u001b[0;31mNameError\u001b[0m: name 'ChnageToFuturePefect' is not defined"
          ]
        }
      ],
      "source": [
        "print(ChnageToFuturePefect(\"She has completed her assignment before everyone else even started.\"))"
      ]
    },
    {
      "cell_type": "code",
      "execution_count": null,
      "metadata": {
        "id": "EmIPuoWpRsCa"
      },
      "outputs": [],
      "source": [
        "def chnagetoPastPefectConinous(text):\n",
        "  text=text.replace(\"have\",\"had\")\n",
        "  text=text.replace(\"has\",\"had\")\n",
        "  return (text)\n",
        "\n",
        "\n"
      ]
    },
    {
      "cell_type": "code",
      "execution_count": null,
      "metadata": {
        "id": "RLoCgH1ddCZD"
      },
      "outputs": [],
      "source": []
    },
    {
      "cell_type": "code",
      "execution_count": null,
      "metadata": {
        "id": "zr463pAMdi0d"
      },
      "outputs": [],
      "source": [
        "def chnagetoPastPefectConinousING(text):\n",
        "  text=text.replace(\"Have\",\"had\")\n",
        "  text=text.replace(\"Has\",\"had\")\n",
        "  return (text)\n",
        "\n"
      ]
    },
    {
      "cell_type": "code",
      "execution_count": null,
      "metadata": {
        "colab": {
          "base_uri": "https://localhost:8080/",
          "height": 165
        },
        "id": "o62EtI7Ldlci",
        "outputId": "532e967d-a662-412f-b38c-761dcf2fcdcd"
      },
      "outputs": [
        {
          "output_type": "error",
          "ename": "NameError",
          "evalue": "ignored",
          "traceback": [
            "\u001b[0;31m---------------------------------------------------------------------------\u001b[0m",
            "\u001b[0;31mNameError\u001b[0m                                 Traceback (most recent call last)",
            "\u001b[0;32m<ipython-input-47-3dc0840b4193>\u001b[0m in \u001b[0;36m<module>\u001b[0;34m\u001b[0m\n\u001b[0;32m----> 1\u001b[0;31m \u001b[0mchnagetoPastPefectConinousING\u001b[0m\u001b[0;34m(\u001b[0m\u001b[0;34m\"Have I been working on this project for a week?\"\u001b[0m\u001b[0;34m)\u001b[0m\u001b[0;34m\u001b[0m\u001b[0;34m\u001b[0m\u001b[0m\n\u001b[0m",
            "\u001b[0;31mNameError\u001b[0m: name 'chnagetoPastPefectConinousING' is not defined"
          ]
        }
      ],
      "source": [
        "chnagetoPastPefectConinousING(\"Have I been working on this project for a week?\")"
      ]
    },
    {
      "cell_type": "code",
      "execution_count": null,
      "metadata": {
        "id": "4XWfaNgVSXLD"
      },
      "outputs": [],
      "source": [
        "def ChnagetoPresenttPerfect(text):\n",
        "  text.lower()\n",
        "  doc=nlp(text)\n",
        "\n",
        "  sub=(get_subject_phrase(doc))\n",
        "  subject=str(sub)\n",
        "  subject=subject.lower()\n",
        "  print(subject)\n",
        "  \n",
        "  if(subject == 'he' or subject =='she'):\n",
        "    text=text.replace(\"had\",\"has\")\n",
        "  else:\n",
        "    text=text.replace(\"had\",\"have\")\n",
        "  \n",
        "  return text\n",
        "\n"
      ]
    },
    {
      "cell_type": "code",
      "execution_count": null,
      "metadata": {
        "id": "dB9nbknmh2S6"
      },
      "outputs": [],
      "source": []
    },
    {
      "cell_type": "code",
      "execution_count": null,
      "metadata": {
        "id": "yoNbaYYqS5jJ"
      },
      "outputs": [],
      "source": [
        "def ChnagetoPresenttPerfectING(text):\n",
        "  text.lower()\n",
        "  doc=nlp(text)\n",
        "\n",
        "  sub=(get_subject_phrase(doc))\n",
        "  subject=str(sub)\n",
        "  subject=subject.lower()\n",
        "  print(subject)\n",
        "  \n",
        "  if(subject == 'he' or subject =='she'):\n",
        "    text=text.replace(\"Had\",\"has\")\n",
        "  else:\n",
        "    text=text.replace(\"Had\",\"have\")\n",
        "  \n",
        "  return text\n",
        "\n"
      ]
    },
    {
      "cell_type": "code",
      "execution_count": null,
      "metadata": {
        "id": "yPGWZVGshmH_"
      },
      "outputs": [],
      "source": []
    },
    {
      "cell_type": "code",
      "execution_count": null,
      "metadata": {
        "id": "Ir26RxZhSLN9"
      },
      "outputs": [],
      "source": [
        "\n"
      ]
    },
    {
      "cell_type": "code",
      "execution_count": null,
      "metadata": {
        "colab": {
          "base_uri": "https://localhost:8080/",
          "height": 165
        },
        "id": "KplnzzAgprfs",
        "outputId": "580f6785-bafd-40ab-a8e2-4261331ab1e3"
      },
      "outputs": [
        {
          "output_type": "error",
          "ename": "NameError",
          "evalue": "ignored",
          "traceback": [
            "\u001b[0;31m---------------------------------------------------------------------------\u001b[0m",
            "\u001b[0;31mNameError\u001b[0m                                 Traceback (most recent call last)",
            "\u001b[0;32m<ipython-input-50-263240bbee7e>\u001b[0m in \u001b[0;36m<module>\u001b[0;34m\u001b[0m\n\u001b[0;32m----> 1\u001b[0;31m \u001b[0mmain\u001b[0m\u001b[0;34m(\u001b[0m\u001b[0;34m)\u001b[0m\u001b[0;34m\u001b[0m\u001b[0;34m\u001b[0m\u001b[0m\n\u001b[0m",
            "\u001b[0;31mNameError\u001b[0m: name 'main' is not defined"
          ]
        }
      ],
      "source": [
        "main()"
      ]
    },
    {
      "cell_type": "code",
      "execution_count": null,
      "metadata": {
        "id": "MifA1xtupm8t"
      },
      "outputs": [],
      "source": [
        "def main():\n",
        "    Choice = getchoice();\n",
        "    Text = getSentence();\n",
        "    if(Choice == 'SPPAST'):\n",
        "      return (ChangeToSimplePast(Text))\n",
        "    elif (Choice == 'SPPRESENT'):\n",
        "      return (ChnageToSimplePresent(Text))\n",
        "    elif (Choice == 'SPFUTURE'):\n",
        "       return (ChangeToSimpleFutureTense(Text))\n",
        "    elif (Choice == 'CPresentContinous'): \n",
        "      return (ChangeASentenceToPresentConitnousPositive(Text))\n",
        "    elif (Choice == 'CPresentContinousING'):\n",
        "      return (ChangeASentenceToPresentConitnousPositiveInterogative(Text))\n",
        "    elif (Choice == 'CPastContinous'):\n",
        "       return (ChangeSentenceToPastContinous(Text))\n",
        "    elif (Choice == 'CPastContinousING'):\n",
        "       return (ChangeASentenceToPastConitnousPositiveInterogative(Text))\n",
        "    elif (Choice == 'CFutureContinous'):\n",
        "       return (ChangeContinousPresentToFuture(Text))\n",
        "    elif (Choice == 'CFutureContinousING'):\n",
        "       return (ChangeToContinousFutureInt(Text))\n",
        "    elif (Choice == 'CPastPerfect'):\n",
        "       return (ChangePresentPerfectToPastPefect(Text))\n",
        "    elif (Choice == 'CPastPerfectING'):\n",
        "       return (ChangePresentPerfectToPastPefectInG(Text))\n",
        "    elif (Choice == 'CPresentPerfect'):\n",
        "       return (ChnagePastPerfectTOPresentPerfect(Text))\n",
        "    elif (Choice == 'CPresentPerfectING'):\n",
        "       return (ChnagePastPerfectTOPresentPerfectIntorrgative(Text))\n",
        "    elif (Choice == 'CFuturePefect'):\n",
        "       return (chnageToFuturePerftec(Text))\n",
        "    elif (Choice == 'CFuturePefectING'):\n",
        "       return (chnageToFuturePerftecINTG(Text))\n",
        "    elif (Choice == 'CPastPerfectContious'):\n",
        "       return (chnagetoPastPefectConinous(Text))\n",
        "    elif (Choice == 'CPastPerfectContiousING'):\n",
        "       return (chnagetoPastPefectConinousING(Text))\n",
        "    elif (Choice == 'CPresentPerfectContinous'):\n",
        "       return (ChnagetoPresenttPerfect(Text))\n",
        "    elif (Choice == 'CPresentPerfectContinousING'):\n",
        "       return (ChnagetoPresenttPerfectING(Text))\n",
        "    elif (Choice == 'ChangeSentneceToContinousPast'):\n",
        "       return (ChangeSentenceToPastContinous(Text))\n",
        "    elif (Choice == 'ChangeSentenceToContinousPResent'):\n",
        "       return (ChangeASentenceToPresentConitnousPositive(Text))\n",
        "    elif (Choice == 'ChnageStencetToFuturContinous'):\n",
        "       return (ChangeContinousPresentToFuture(Text))\n",
        "    elif (Choice == 'ChangeFuturePerectContonous'):\n",
        "       return (ChnageToFuturePefect(Text))\n",
        "\n",
        "\n",
        "    return Choice"
      ]
    },
    {
      "cell_type": "code",
      "execution_count": null,
      "metadata": {
        "id": "mFMj0D5NPJEk"
      },
      "outputs": [],
      "source": [
        "def ChnageToFuturePefect(text):\n",
        "  text=text=text.replace(\"had\",\"will have\")\n",
        "  text=text=text.replace(\"has\",\"will have\")\n",
        "  return (text)"
      ]
    },
    {
      "cell_type": "code",
      "execution_count": null,
      "metadata": {
        "id": "nXM8A0MVdgFZ"
      },
      "outputs": [],
      "source": [
        "@app.route(\"/TransformVerbs\",methods=['GET'])\n",
        "def TransformVerbs():\n",
        "    data=main()\n",
        "    Choice = happy_tt.generate_text(data, args=beam_settings)\n",
        "    return Choice.text"
      ]
    },
    {
      "cell_type": "code",
      "execution_count": null,
      "metadata": {
        "colab": {
          "base_uri": "https://localhost:8080/"
        },
        "id": "tYg_Tp1Cdgzx",
        "outputId": "4d555f8f-a956-43f0-8192-e6bb02394bbe"
      },
      "outputs": [
        {
          "output_type": "stream",
          "name": "stdout",
          "text": [
            "Authtoken saved to configuration file: /root/.ngrok2/ngrok.yml\n"
          ]
        }
      ],
      "source": [
        "! ngrok authtoken 28vI9TOr5E1M6Dz19n53DRYI5Sl_2ZLgA6EDj8gaERL5iarXo"
      ]
    },
    {
      "cell_type": "code",
      "execution_count": null,
      "metadata": {
        "id": "5W7u6NiahJHg"
      },
      "outputs": [],
      "source": [
        "FBConn= firebase.FirebaseApplication('https://stek-e122c-default-rtdb.firebaseio.com/',None)"
      ]
    },
    {
      "cell_type": "code",
      "execution_count": null,
      "metadata": {
        "id": "axOYwj92dQrP"
      },
      "outputs": [],
      "source": [
        "def getSentence():\n",
        "   result = FBConn.get('/verbtransformdata/', '')\n",
        "   return result['SentenceEntered']\n",
        "\n"
      ]
    },
    {
      "cell_type": "code",
      "execution_count": null,
      "metadata": {
        "id": "QRaVXsZXdbeG"
      },
      "outputs": [],
      "source": [
        "print (getchoice())"
      ]
    },
    {
      "cell_type": "code",
      "execution_count": null,
      "metadata": {
        "id": "ZzKUCH_ogvAm"
      },
      "outputs": [],
      "source": [
        "def getchoice ():\n",
        "  k1=\"\"\n",
        "  K2=\"\"\n",
        "  x=0\n",
        "  choice=\"Invalid\"\n",
        "  result = FBConn.get('/slectedVerb/', '')  \n",
        "  k1=result['PrevVerb']\n",
        "  k2=result['TargetVrb']\n",
        "  print(k1)\n",
        "  print(k2)\n",
        " \n",
        "  if(k1 == \"SimplePresent\"):\n",
        "    if(k2 == \"SimplePast\"):\n",
        "      choice=\"SPPAST\"\n",
        "\n",
        "  if(k1 == \"SimplePast\"):\n",
        "    if(k2 == \"SimplePresent\"):\n",
        "      choice=\"SPPRESENT\"\n",
        "    \n",
        "  if(k1 == \"SimplePresent\"):\n",
        "    if(k2 == \"SimpleFuture\"):\n",
        "      choice=\"SPFUTURE\"\n",
        "\n",
        "    \n",
        "  if(k1 == \"PastContinous\"):\n",
        "    if(k2 == \"PresentContinous\"):\n",
        "      choice=\"CPresentContinous\"\n",
        "\n",
        "    \n",
        "  if(k1 == \"PastContinousING\"):\n",
        "    if(k2 == \"PresentContinousING\"):\n",
        "      choice=\"CPresentContinousING\"\n",
        "    \n",
        "    \n",
        "  if(k1 == \"PresentContinous\"):\n",
        "    if(k2 == \"PastContinous\"):\n",
        "      choice=\"CPastContinous\"\n",
        "\n",
        "    \n",
        "  if(k1 == \"PresentContinousING\"):\n",
        "    if(k2 == \"PastContinousING\"):\n",
        "      choice=\"CPastContinousING\"\n",
        "\n",
        "\n",
        "  if(k1 == \"PresentContinous\"):\n",
        "    if(k2 == \"FutureContinous\"):\n",
        "      choice=\"CFutureContinous\"\n",
        "\n",
        "  if(k1 == \"PresentContinousING\"):\n",
        "    if(k2 == \"FutureContinousING\"):\n",
        "      choice=\"CFutureContinousING\"\n",
        "\n",
        "\n",
        "  if(k1 == \"PresentPerfect\"):\n",
        "    if(k2 == \"PastPerfect\"):\n",
        "      choice=\"CPastPerfect\"\n",
        "\n",
        "\n",
        "  if(k1 == \"PresentPerfectING\"):\n",
        "    if(k2 == \"PastPerfectING\"):\n",
        "      choice=\"CPastPerfectING\"\n",
        "\n",
        "\n",
        "  if(k1 == \"PastPerfect\"):\n",
        "    if(k2 == \"PresentPerfect\"):\n",
        "      choice=\"CPresentPerfect\"\n",
        "\n",
        "\n",
        "  if(k1 == \"PastPerfectING\"):\n",
        "    if(k2 == \"PresentPerfectING\"):\n",
        "      choice=\"CPresentPerfectING\"\n",
        "\n",
        "\n",
        "  if(k1 == \"PresentPerfect\"):\n",
        "    if(k2 == \"FuturePerfect\"):\n",
        "      choice=\"CFuturePefect\"\n",
        "\n",
        "\n",
        "  if(k1 == \"PresentPerfectING\"):\n",
        "    if(k2 == \"FuturePerfectING\"):\n",
        "      choice=\"CFuturePefectING\"\n",
        "\n",
        "\n",
        "  if(k1 == \"PresentPerfectContinous\"):\n",
        "    if(k2 == \"PastPerfectContinous\"):\n",
        "      choice=\"CPastPerfectContious\"\n",
        "\n",
        "  if(k1 == \"PresentPerfectContinousING\"):\n",
        "    if(k2 == \"PastPerfectContinousING\"):\n",
        "      choice=\"CPastPerfectContiousING\"\n",
        "\n",
        "  if(k1 == \"PastPerfectContinous\"):\n",
        "    if(k2 == \"PresentPerfectContinous\"):\n",
        "      choice=\"CPresentPerfectContinous\"\n",
        "\n",
        "  if(k1 == \"PastPerfectContinousING\"):\n",
        "    if(k2 == \"PresentPerfectContinousING\"):\n",
        "      choice=\"CPresentPerfectContinousING\"\n",
        "\n",
        "\n",
        "  if(k1 == \"PresentPerfectContinous\"):\n",
        "    if(k2 == \"FuturePerfectContois\"):\n",
        "      choice=\"ChangeFuturePerectContonous\"\n",
        "\n",
        "\n",
        "  if(k1 == \"ContinousPresent\"):\n",
        "    if(k2 == \"ContinousPast\"):\n",
        "      choice=\"ChangeSentneceToContinousPast\"\n",
        "\n",
        "\n",
        "  if(k1 == \"ContinousPast\"):\n",
        "    if(k2 == \"ContinousPresent\"):\n",
        "      choice=\"ChangeSentenceToContinousPResent\"\n",
        "\n",
        "  if(k1 == \"ContinousPresent\"):\n",
        "    if(k2 == \"ContinousFuture\"):\n",
        "      choice=\"ChnageStencetToFuturContinous\"\n",
        "\n",
        "\n",
        "\n",
        "\n",
        "  \n",
        "\n",
        "\n",
        "\n",
        "            \n",
        "            \n",
        "            \n",
        "  return (choice)\n",
        "\n",
        "      \n",
        "      \n",
        "\n"
      ]
    },
    {
      "cell_type": "code",
      "execution_count": null,
      "metadata": {
        "colab": {
          "base_uri": "https://localhost:8080/",
          "height": 70
        },
        "id": "nLPfvySuhUvf",
        "outputId": "b9d3f0bf-d144-44f0-e0ca-d5a666d079b2"
      },
      "outputs": [
        {
          "output_type": "stream",
          "name": "stdout",
          "text": [
            "SimplePresent\n",
            "SimplePast\n"
          ]
        },
        {
          "output_type": "execute_result",
          "data": {
            "text/plain": [
              "'SPPAST'"
            ],
            "application/vnd.google.colaboratory.intrinsic+json": {
              "type": "string"
            }
          },
          "metadata": {},
          "execution_count": 59
        }
      ],
      "source": [
        "getchoice()"
      ]
    },
    {
      "cell_type": "code",
      "execution_count": null,
      "metadata": {
        "colab": {
          "base_uri": "https://localhost:8080/"
        },
        "id": "smQ4hdEFdi_x",
        "outputId": "77277838-5ac6-44e6-c348-9098112e0415"
      },
      "outputs": [
        {
          "output_type": "stream",
          "name": "stdout",
          "text": [
            " * Serving Flask app \"__main__\" (lazy loading)\n",
            " * Environment: production\n",
            "\u001b[31m   WARNING: This is a development server. Do not use it in a production deployment.\u001b[0m\n",
            "\u001b[2m   Use a production WSGI server instead.\u001b[0m\n",
            " * Debug mode: off\n"
          ]
        },
        {
          "output_type": "stream",
          "name": "stderr",
          "text": [
            "INFO:werkzeug: * Running on http://127.0.0.1:5000/ (Press CTRL+C to quit)\n"
          ]
        },
        {
          "output_type": "stream",
          "name": "stdout",
          "text": [
            " * Running on http://fd0a-35-185-65-80.ngrok.io\n",
            " * Traffic stats available on http://127.0.0.1:4040\n"
          ]
        }
      ],
      "source": [
        "run_with_ngrok(app)\n",
        "app.run()"
      ]
    }
  ],
  "metadata": {
    "colab": {
      "provenance": [],
      "authorship_tag": "ABX9TyN2oCl+AkJ5OFTpxONMRF+X",
      "include_colab_link": true
    },
    "kernelspec": {
      "display_name": "Python 3",
      "name": "python3"
    },
    "language_info": {
      "name": "python"
    },
    "widgets": {
      "application/vnd.jupyter.widget-state+json": {
        "6c82b93eade146de802a5f2a422fc3d5": {
          "model_module": "@jupyter-widgets/controls",
          "model_name": "HBoxModel",
          "model_module_version": "1.5.0",
          "state": {
            "_dom_classes": [],
            "_model_module": "@jupyter-widgets/controls",
            "_model_module_version": "1.5.0",
            "_model_name": "HBoxModel",
            "_view_count": null,
            "_view_module": "@jupyter-widgets/controls",
            "_view_module_version": "1.5.0",
            "_view_name": "HBoxView",
            "box_style": "",
            "children": [
              "IPY_MODEL_d91eb13ef06e4258947205e48360e559",
              "IPY_MODEL_9b753f1eda984a62a98eb0d299d9be00",
              "IPY_MODEL_2c2e7db012644d25ada98af00ac5faa2"
            ],
            "layout": "IPY_MODEL_cbe36d3dabaa498992831dae9867682d"
          }
        },
        "d91eb13ef06e4258947205e48360e559": {
          "model_module": "@jupyter-widgets/controls",
          "model_name": "HTMLModel",
          "model_module_version": "1.5.0",
          "state": {
            "_dom_classes": [],
            "_model_module": "@jupyter-widgets/controls",
            "_model_module_version": "1.5.0",
            "_model_name": "HTMLModel",
            "_view_count": null,
            "_view_module": "@jupyter-widgets/controls",
            "_view_module_version": "1.5.0",
            "_view_name": "HTMLView",
            "description": "",
            "description_tooltip": null,
            "layout": "IPY_MODEL_09a9cdf764fc42cf944517898885b33c",
            "placeholder": "​",
            "style": "IPY_MODEL_d59d34f017fa49d99027a19b728e01e6",
            "value": "Downloading: 100%"
          }
        },
        "9b753f1eda984a62a98eb0d299d9be00": {
          "model_module": "@jupyter-widgets/controls",
          "model_name": "FloatProgressModel",
          "model_module_version": "1.5.0",
          "state": {
            "_dom_classes": [],
            "_model_module": "@jupyter-widgets/controls",
            "_model_module_version": "1.5.0",
            "_model_name": "FloatProgressModel",
            "_view_count": null,
            "_view_module": "@jupyter-widgets/controls",
            "_view_module_version": "1.5.0",
            "_view_name": "ProgressView",
            "bar_style": "success",
            "description": "",
            "description_tooltip": null,
            "layout": "IPY_MODEL_64072600c7e6470ea96cfbc44d9bf976",
            "max": 1416,
            "min": 0,
            "orientation": "horizontal",
            "style": "IPY_MODEL_584efc9582ca4e18bfe206386a6b9ac8",
            "value": 1416
          }
        },
        "2c2e7db012644d25ada98af00ac5faa2": {
          "model_module": "@jupyter-widgets/controls",
          "model_name": "HTMLModel",
          "model_module_version": "1.5.0",
          "state": {
            "_dom_classes": [],
            "_model_module": "@jupyter-widgets/controls",
            "_model_module_version": "1.5.0",
            "_model_name": "HTMLModel",
            "_view_count": null,
            "_view_module": "@jupyter-widgets/controls",
            "_view_module_version": "1.5.0",
            "_view_name": "HTMLView",
            "description": "",
            "description_tooltip": null,
            "layout": "IPY_MODEL_cc29439f41954decb2274093b7899cfa",
            "placeholder": "​",
            "style": "IPY_MODEL_07497d98783b406abd8dabaf13d32c3c",
            "value": " 1.42k/1.42k [00:00&lt;00:00, 9.90kB/s]"
          }
        },
        "cbe36d3dabaa498992831dae9867682d": {
          "model_module": "@jupyter-widgets/base",
          "model_name": "LayoutModel",
          "model_module_version": "1.2.0",
          "state": {
            "_model_module": "@jupyter-widgets/base",
            "_model_module_version": "1.2.0",
            "_model_name": "LayoutModel",
            "_view_count": null,
            "_view_module": "@jupyter-widgets/base",
            "_view_module_version": "1.2.0",
            "_view_name": "LayoutView",
            "align_content": null,
            "align_items": null,
            "align_self": null,
            "border": null,
            "bottom": null,
            "display": null,
            "flex": null,
            "flex_flow": null,
            "grid_area": null,
            "grid_auto_columns": null,
            "grid_auto_flow": null,
            "grid_auto_rows": null,
            "grid_column": null,
            "grid_gap": null,
            "grid_row": null,
            "grid_template_areas": null,
            "grid_template_columns": null,
            "grid_template_rows": null,
            "height": null,
            "justify_content": null,
            "justify_items": null,
            "left": null,
            "margin": null,
            "max_height": null,
            "max_width": null,
            "min_height": null,
            "min_width": null,
            "object_fit": null,
            "object_position": null,
            "order": null,
            "overflow": null,
            "overflow_x": null,
            "overflow_y": null,
            "padding": null,
            "right": null,
            "top": null,
            "visibility": null,
            "width": null
          }
        },
        "09a9cdf764fc42cf944517898885b33c": {
          "model_module": "@jupyter-widgets/base",
          "model_name": "LayoutModel",
          "model_module_version": "1.2.0",
          "state": {
            "_model_module": "@jupyter-widgets/base",
            "_model_module_version": "1.2.0",
            "_model_name": "LayoutModel",
            "_view_count": null,
            "_view_module": "@jupyter-widgets/base",
            "_view_module_version": "1.2.0",
            "_view_name": "LayoutView",
            "align_content": null,
            "align_items": null,
            "align_self": null,
            "border": null,
            "bottom": null,
            "display": null,
            "flex": null,
            "flex_flow": null,
            "grid_area": null,
            "grid_auto_columns": null,
            "grid_auto_flow": null,
            "grid_auto_rows": null,
            "grid_column": null,
            "grid_gap": null,
            "grid_row": null,
            "grid_template_areas": null,
            "grid_template_columns": null,
            "grid_template_rows": null,
            "height": null,
            "justify_content": null,
            "justify_items": null,
            "left": null,
            "margin": null,
            "max_height": null,
            "max_width": null,
            "min_height": null,
            "min_width": null,
            "object_fit": null,
            "object_position": null,
            "order": null,
            "overflow": null,
            "overflow_x": null,
            "overflow_y": null,
            "padding": null,
            "right": null,
            "top": null,
            "visibility": null,
            "width": null
          }
        },
        "d59d34f017fa49d99027a19b728e01e6": {
          "model_module": "@jupyter-widgets/controls",
          "model_name": "DescriptionStyleModel",
          "model_module_version": "1.5.0",
          "state": {
            "_model_module": "@jupyter-widgets/controls",
            "_model_module_version": "1.5.0",
            "_model_name": "DescriptionStyleModel",
            "_view_count": null,
            "_view_module": "@jupyter-widgets/base",
            "_view_module_version": "1.2.0",
            "_view_name": "StyleView",
            "description_width": ""
          }
        },
        "64072600c7e6470ea96cfbc44d9bf976": {
          "model_module": "@jupyter-widgets/base",
          "model_name": "LayoutModel",
          "model_module_version": "1.2.0",
          "state": {
            "_model_module": "@jupyter-widgets/base",
            "_model_module_version": "1.2.0",
            "_model_name": "LayoutModel",
            "_view_count": null,
            "_view_module": "@jupyter-widgets/base",
            "_view_module_version": "1.2.0",
            "_view_name": "LayoutView",
            "align_content": null,
            "align_items": null,
            "align_self": null,
            "border": null,
            "bottom": null,
            "display": null,
            "flex": null,
            "flex_flow": null,
            "grid_area": null,
            "grid_auto_columns": null,
            "grid_auto_flow": null,
            "grid_auto_rows": null,
            "grid_column": null,
            "grid_gap": null,
            "grid_row": null,
            "grid_template_areas": null,
            "grid_template_columns": null,
            "grid_template_rows": null,
            "height": null,
            "justify_content": null,
            "justify_items": null,
            "left": null,
            "margin": null,
            "max_height": null,
            "max_width": null,
            "min_height": null,
            "min_width": null,
            "object_fit": null,
            "object_position": null,
            "order": null,
            "overflow": null,
            "overflow_x": null,
            "overflow_y": null,
            "padding": null,
            "right": null,
            "top": null,
            "visibility": null,
            "width": null
          }
        },
        "584efc9582ca4e18bfe206386a6b9ac8": {
          "model_module": "@jupyter-widgets/controls",
          "model_name": "ProgressStyleModel",
          "model_module_version": "1.5.0",
          "state": {
            "_model_module": "@jupyter-widgets/controls",
            "_model_module_version": "1.5.0",
            "_model_name": "ProgressStyleModel",
            "_view_count": null,
            "_view_module": "@jupyter-widgets/base",
            "_view_module_version": "1.2.0",
            "_view_name": "StyleView",
            "bar_color": null,
            "description_width": ""
          }
        },
        "cc29439f41954decb2274093b7899cfa": {
          "model_module": "@jupyter-widgets/base",
          "model_name": "LayoutModel",
          "model_module_version": "1.2.0",
          "state": {
            "_model_module": "@jupyter-widgets/base",
            "_model_module_version": "1.2.0",
            "_model_name": "LayoutModel",
            "_view_count": null,
            "_view_module": "@jupyter-widgets/base",
            "_view_module_version": "1.2.0",
            "_view_name": "LayoutView",
            "align_content": null,
            "align_items": null,
            "align_self": null,
            "border": null,
            "bottom": null,
            "display": null,
            "flex": null,
            "flex_flow": null,
            "grid_area": null,
            "grid_auto_columns": null,
            "grid_auto_flow": null,
            "grid_auto_rows": null,
            "grid_column": null,
            "grid_gap": null,
            "grid_row": null,
            "grid_template_areas": null,
            "grid_template_columns": null,
            "grid_template_rows": null,
            "height": null,
            "justify_content": null,
            "justify_items": null,
            "left": null,
            "margin": null,
            "max_height": null,
            "max_width": null,
            "min_height": null,
            "min_width": null,
            "object_fit": null,
            "object_position": null,
            "order": null,
            "overflow": null,
            "overflow_x": null,
            "overflow_y": null,
            "padding": null,
            "right": null,
            "top": null,
            "visibility": null,
            "width": null
          }
        },
        "07497d98783b406abd8dabaf13d32c3c": {
          "model_module": "@jupyter-widgets/controls",
          "model_name": "DescriptionStyleModel",
          "model_module_version": "1.5.0",
          "state": {
            "_model_module": "@jupyter-widgets/controls",
            "_model_module_version": "1.5.0",
            "_model_name": "DescriptionStyleModel",
            "_view_count": null,
            "_view_module": "@jupyter-widgets/base",
            "_view_module_version": "1.2.0",
            "_view_name": "StyleView",
            "description_width": ""
          }
        },
        "0ff13415a4e741188ad83ee9a61cca31": {
          "model_module": "@jupyter-widgets/controls",
          "model_name": "HBoxModel",
          "model_module_version": "1.5.0",
          "state": {
            "_dom_classes": [],
            "_model_module": "@jupyter-widgets/controls",
            "_model_module_version": "1.5.0",
            "_model_name": "HBoxModel",
            "_view_count": null,
            "_view_module": "@jupyter-widgets/controls",
            "_view_module_version": "1.5.0",
            "_view_name": "HBoxView",
            "box_style": "",
            "children": [
              "IPY_MODEL_8fafa115284440968305ce65e239bdcd",
              "IPY_MODEL_d999398547dc496595cda148ee476b12",
              "IPY_MODEL_1dc7723e8eef464fb17bb9078a395b80"
            ],
            "layout": "IPY_MODEL_4a53e0b6e93642caa9b87292e7531b56"
          }
        },
        "8fafa115284440968305ce65e239bdcd": {
          "model_module": "@jupyter-widgets/controls",
          "model_name": "HTMLModel",
          "model_module_version": "1.5.0",
          "state": {
            "_dom_classes": [],
            "_model_module": "@jupyter-widgets/controls",
            "_model_module_version": "1.5.0",
            "_model_name": "HTMLModel",
            "_view_count": null,
            "_view_module": "@jupyter-widgets/controls",
            "_view_module_version": "1.5.0",
            "_view_name": "HTMLView",
            "description": "",
            "description_tooltip": null,
            "layout": "IPY_MODEL_1ee65602acc64e68b4c5589793ec1f4d",
            "placeholder": "​",
            "style": "IPY_MODEL_706b8c355ae241d5adbf82f1af7cfe26",
            "value": "Downloading: 100%"
          }
        },
        "d999398547dc496595cda148ee476b12": {
          "model_module": "@jupyter-widgets/controls",
          "model_name": "FloatProgressModel",
          "model_module_version": "1.5.0",
          "state": {
            "_dom_classes": [],
            "_model_module": "@jupyter-widgets/controls",
            "_model_module_version": "1.5.0",
            "_model_name": "FloatProgressModel",
            "_view_count": null,
            "_view_module": "@jupyter-widgets/controls",
            "_view_module_version": "1.5.0",
            "_view_name": "ProgressView",
            "bar_style": "success",
            "description": "",
            "description_tooltip": null,
            "layout": "IPY_MODEL_d5a65e16967042d9a2a710fe2780d531",
            "max": 891730879,
            "min": 0,
            "orientation": "horizontal",
            "style": "IPY_MODEL_1e064af593d44101ba6d68c5c445a712",
            "value": 891730879
          }
        },
        "1dc7723e8eef464fb17bb9078a395b80": {
          "model_module": "@jupyter-widgets/controls",
          "model_name": "HTMLModel",
          "model_module_version": "1.5.0",
          "state": {
            "_dom_classes": [],
            "_model_module": "@jupyter-widgets/controls",
            "_model_module_version": "1.5.0",
            "_model_name": "HTMLModel",
            "_view_count": null,
            "_view_module": "@jupyter-widgets/controls",
            "_view_module_version": "1.5.0",
            "_view_name": "HTMLView",
            "description": "",
            "description_tooltip": null,
            "layout": "IPY_MODEL_67fd156d68684e588b2af9e9a5f0ab00",
            "placeholder": "​",
            "style": "IPY_MODEL_c191418551454e76a5e09b830c1bc338",
            "value": " 892M/892M [00:31&lt;00:00, 21.5MB/s]"
          }
        },
        "4a53e0b6e93642caa9b87292e7531b56": {
          "model_module": "@jupyter-widgets/base",
          "model_name": "LayoutModel",
          "model_module_version": "1.2.0",
          "state": {
            "_model_module": "@jupyter-widgets/base",
            "_model_module_version": "1.2.0",
            "_model_name": "LayoutModel",
            "_view_count": null,
            "_view_module": "@jupyter-widgets/base",
            "_view_module_version": "1.2.0",
            "_view_name": "LayoutView",
            "align_content": null,
            "align_items": null,
            "align_self": null,
            "border": null,
            "bottom": null,
            "display": null,
            "flex": null,
            "flex_flow": null,
            "grid_area": null,
            "grid_auto_columns": null,
            "grid_auto_flow": null,
            "grid_auto_rows": null,
            "grid_column": null,
            "grid_gap": null,
            "grid_row": null,
            "grid_template_areas": null,
            "grid_template_columns": null,
            "grid_template_rows": null,
            "height": null,
            "justify_content": null,
            "justify_items": null,
            "left": null,
            "margin": null,
            "max_height": null,
            "max_width": null,
            "min_height": null,
            "min_width": null,
            "object_fit": null,
            "object_position": null,
            "order": null,
            "overflow": null,
            "overflow_x": null,
            "overflow_y": null,
            "padding": null,
            "right": null,
            "top": null,
            "visibility": null,
            "width": null
          }
        },
        "1ee65602acc64e68b4c5589793ec1f4d": {
          "model_module": "@jupyter-widgets/base",
          "model_name": "LayoutModel",
          "model_module_version": "1.2.0",
          "state": {
            "_model_module": "@jupyter-widgets/base",
            "_model_module_version": "1.2.0",
            "_model_name": "LayoutModel",
            "_view_count": null,
            "_view_module": "@jupyter-widgets/base",
            "_view_module_version": "1.2.0",
            "_view_name": "LayoutView",
            "align_content": null,
            "align_items": null,
            "align_self": null,
            "border": null,
            "bottom": null,
            "display": null,
            "flex": null,
            "flex_flow": null,
            "grid_area": null,
            "grid_auto_columns": null,
            "grid_auto_flow": null,
            "grid_auto_rows": null,
            "grid_column": null,
            "grid_gap": null,
            "grid_row": null,
            "grid_template_areas": null,
            "grid_template_columns": null,
            "grid_template_rows": null,
            "height": null,
            "justify_content": null,
            "justify_items": null,
            "left": null,
            "margin": null,
            "max_height": null,
            "max_width": null,
            "min_height": null,
            "min_width": null,
            "object_fit": null,
            "object_position": null,
            "order": null,
            "overflow": null,
            "overflow_x": null,
            "overflow_y": null,
            "padding": null,
            "right": null,
            "top": null,
            "visibility": null,
            "width": null
          }
        },
        "706b8c355ae241d5adbf82f1af7cfe26": {
          "model_module": "@jupyter-widgets/controls",
          "model_name": "DescriptionStyleModel",
          "model_module_version": "1.5.0",
          "state": {
            "_model_module": "@jupyter-widgets/controls",
            "_model_module_version": "1.5.0",
            "_model_name": "DescriptionStyleModel",
            "_view_count": null,
            "_view_module": "@jupyter-widgets/base",
            "_view_module_version": "1.2.0",
            "_view_name": "StyleView",
            "description_width": ""
          }
        },
        "d5a65e16967042d9a2a710fe2780d531": {
          "model_module": "@jupyter-widgets/base",
          "model_name": "LayoutModel",
          "model_module_version": "1.2.0",
          "state": {
            "_model_module": "@jupyter-widgets/base",
            "_model_module_version": "1.2.0",
            "_model_name": "LayoutModel",
            "_view_count": null,
            "_view_module": "@jupyter-widgets/base",
            "_view_module_version": "1.2.0",
            "_view_name": "LayoutView",
            "align_content": null,
            "align_items": null,
            "align_self": null,
            "border": null,
            "bottom": null,
            "display": null,
            "flex": null,
            "flex_flow": null,
            "grid_area": null,
            "grid_auto_columns": null,
            "grid_auto_flow": null,
            "grid_auto_rows": null,
            "grid_column": null,
            "grid_gap": null,
            "grid_row": null,
            "grid_template_areas": null,
            "grid_template_columns": null,
            "grid_template_rows": null,
            "height": null,
            "justify_content": null,
            "justify_items": null,
            "left": null,
            "margin": null,
            "max_height": null,
            "max_width": null,
            "min_height": null,
            "min_width": null,
            "object_fit": null,
            "object_position": null,
            "order": null,
            "overflow": null,
            "overflow_x": null,
            "overflow_y": null,
            "padding": null,
            "right": null,
            "top": null,
            "visibility": null,
            "width": null
          }
        },
        "1e064af593d44101ba6d68c5c445a712": {
          "model_module": "@jupyter-widgets/controls",
          "model_name": "ProgressStyleModel",
          "model_module_version": "1.5.0",
          "state": {
            "_model_module": "@jupyter-widgets/controls",
            "_model_module_version": "1.5.0",
            "_model_name": "ProgressStyleModel",
            "_view_count": null,
            "_view_module": "@jupyter-widgets/base",
            "_view_module_version": "1.2.0",
            "_view_name": "StyleView",
            "bar_color": null,
            "description_width": ""
          }
        },
        "67fd156d68684e588b2af9e9a5f0ab00": {
          "model_module": "@jupyter-widgets/base",
          "model_name": "LayoutModel",
          "model_module_version": "1.2.0",
          "state": {
            "_model_module": "@jupyter-widgets/base",
            "_model_module_version": "1.2.0",
            "_model_name": "LayoutModel",
            "_view_count": null,
            "_view_module": "@jupyter-widgets/base",
            "_view_module_version": "1.2.0",
            "_view_name": "LayoutView",
            "align_content": null,
            "align_items": null,
            "align_self": null,
            "border": null,
            "bottom": null,
            "display": null,
            "flex": null,
            "flex_flow": null,
            "grid_area": null,
            "grid_auto_columns": null,
            "grid_auto_flow": null,
            "grid_auto_rows": null,
            "grid_column": null,
            "grid_gap": null,
            "grid_row": null,
            "grid_template_areas": null,
            "grid_template_columns": null,
            "grid_template_rows": null,
            "height": null,
            "justify_content": null,
            "justify_items": null,
            "left": null,
            "margin": null,
            "max_height": null,
            "max_width": null,
            "min_height": null,
            "min_width": null,
            "object_fit": null,
            "object_position": null,
            "order": null,
            "overflow": null,
            "overflow_x": null,
            "overflow_y": null,
            "padding": null,
            "right": null,
            "top": null,
            "visibility": null,
            "width": null
          }
        },
        "c191418551454e76a5e09b830c1bc338": {
          "model_module": "@jupyter-widgets/controls",
          "model_name": "DescriptionStyleModel",
          "model_module_version": "1.5.0",
          "state": {
            "_model_module": "@jupyter-widgets/controls",
            "_model_module_version": "1.5.0",
            "_model_name": "DescriptionStyleModel",
            "_view_count": null,
            "_view_module": "@jupyter-widgets/base",
            "_view_module_version": "1.2.0",
            "_view_name": "StyleView",
            "description_width": ""
          }
        },
        "1ce95830376d42cbbe32a05a1f5bf673": {
          "model_module": "@jupyter-widgets/controls",
          "model_name": "HBoxModel",
          "model_module_version": "1.5.0",
          "state": {
            "_dom_classes": [],
            "_model_module": "@jupyter-widgets/controls",
            "_model_module_version": "1.5.0",
            "_model_name": "HBoxModel",
            "_view_count": null,
            "_view_module": "@jupyter-widgets/controls",
            "_view_module_version": "1.5.0",
            "_view_name": "HBoxView",
            "box_style": "",
            "children": [
              "IPY_MODEL_d7dc1e8045914aa3810ab3c5eafcb281",
              "IPY_MODEL_b60a47b0bcea40bdaacb36525214b987",
              "IPY_MODEL_ccadf537fba84aaeaec78df446d2791d"
            ],
            "layout": "IPY_MODEL_f13442649ed247c581105d6e3c76beaf"
          }
        },
        "d7dc1e8045914aa3810ab3c5eafcb281": {
          "model_module": "@jupyter-widgets/controls",
          "model_name": "HTMLModel",
          "model_module_version": "1.5.0",
          "state": {
            "_dom_classes": [],
            "_model_module": "@jupyter-widgets/controls",
            "_model_module_version": "1.5.0",
            "_model_name": "HTMLModel",
            "_view_count": null,
            "_view_module": "@jupyter-widgets/controls",
            "_view_module_version": "1.5.0",
            "_view_name": "HTMLView",
            "description": "",
            "description_tooltip": null,
            "layout": "IPY_MODEL_15991c686e03480c99e548c2f09169cb",
            "placeholder": "​",
            "style": "IPY_MODEL_710533ba076d4635803e4c3da4b0c0fc",
            "value": "Downloading: 100%"
          }
        },
        "b60a47b0bcea40bdaacb36525214b987": {
          "model_module": "@jupyter-widgets/controls",
          "model_name": "FloatProgressModel",
          "model_module_version": "1.5.0",
          "state": {
            "_dom_classes": [],
            "_model_module": "@jupyter-widgets/controls",
            "_model_module_version": "1.5.0",
            "_model_name": "FloatProgressModel",
            "_view_count": null,
            "_view_module": "@jupyter-widgets/controls",
            "_view_module_version": "1.5.0",
            "_view_name": "ProgressView",
            "bar_style": "success",
            "description": "",
            "description_tooltip": null,
            "layout": "IPY_MODEL_b2fa05380c964133ac457861412970d3",
            "max": 1923,
            "min": 0,
            "orientation": "horizontal",
            "style": "IPY_MODEL_d090e33f199d448fbf81017a45d74199",
            "value": 1923
          }
        },
        "ccadf537fba84aaeaec78df446d2791d": {
          "model_module": "@jupyter-widgets/controls",
          "model_name": "HTMLModel",
          "model_module_version": "1.5.0",
          "state": {
            "_dom_classes": [],
            "_model_module": "@jupyter-widgets/controls",
            "_model_module_version": "1.5.0",
            "_model_name": "HTMLModel",
            "_view_count": null,
            "_view_module": "@jupyter-widgets/controls",
            "_view_module_version": "1.5.0",
            "_view_name": "HTMLView",
            "description": "",
            "description_tooltip": null,
            "layout": "IPY_MODEL_9c38b879c39b414e93efef7609680c73",
            "placeholder": "​",
            "style": "IPY_MODEL_5d0b45a3c1c24b138e2d511c3e006dee",
            "value": " 1.92k/1.92k [00:00&lt;00:00, 47.3kB/s]"
          }
        },
        "f13442649ed247c581105d6e3c76beaf": {
          "model_module": "@jupyter-widgets/base",
          "model_name": "LayoutModel",
          "model_module_version": "1.2.0",
          "state": {
            "_model_module": "@jupyter-widgets/base",
            "_model_module_version": "1.2.0",
            "_model_name": "LayoutModel",
            "_view_count": null,
            "_view_module": "@jupyter-widgets/base",
            "_view_module_version": "1.2.0",
            "_view_name": "LayoutView",
            "align_content": null,
            "align_items": null,
            "align_self": null,
            "border": null,
            "bottom": null,
            "display": null,
            "flex": null,
            "flex_flow": null,
            "grid_area": null,
            "grid_auto_columns": null,
            "grid_auto_flow": null,
            "grid_auto_rows": null,
            "grid_column": null,
            "grid_gap": null,
            "grid_row": null,
            "grid_template_areas": null,
            "grid_template_columns": null,
            "grid_template_rows": null,
            "height": null,
            "justify_content": null,
            "justify_items": null,
            "left": null,
            "margin": null,
            "max_height": null,
            "max_width": null,
            "min_height": null,
            "min_width": null,
            "object_fit": null,
            "object_position": null,
            "order": null,
            "overflow": null,
            "overflow_x": null,
            "overflow_y": null,
            "padding": null,
            "right": null,
            "top": null,
            "visibility": null,
            "width": null
          }
        },
        "15991c686e03480c99e548c2f09169cb": {
          "model_module": "@jupyter-widgets/base",
          "model_name": "LayoutModel",
          "model_module_version": "1.2.0",
          "state": {
            "_model_module": "@jupyter-widgets/base",
            "_model_module_version": "1.2.0",
            "_model_name": "LayoutModel",
            "_view_count": null,
            "_view_module": "@jupyter-widgets/base",
            "_view_module_version": "1.2.0",
            "_view_name": "LayoutView",
            "align_content": null,
            "align_items": null,
            "align_self": null,
            "border": null,
            "bottom": null,
            "display": null,
            "flex": null,
            "flex_flow": null,
            "grid_area": null,
            "grid_auto_columns": null,
            "grid_auto_flow": null,
            "grid_auto_rows": null,
            "grid_column": null,
            "grid_gap": null,
            "grid_row": null,
            "grid_template_areas": null,
            "grid_template_columns": null,
            "grid_template_rows": null,
            "height": null,
            "justify_content": null,
            "justify_items": null,
            "left": null,
            "margin": null,
            "max_height": null,
            "max_width": null,
            "min_height": null,
            "min_width": null,
            "object_fit": null,
            "object_position": null,
            "order": null,
            "overflow": null,
            "overflow_x": null,
            "overflow_y": null,
            "padding": null,
            "right": null,
            "top": null,
            "visibility": null,
            "width": null
          }
        },
        "710533ba076d4635803e4c3da4b0c0fc": {
          "model_module": "@jupyter-widgets/controls",
          "model_name": "DescriptionStyleModel",
          "model_module_version": "1.5.0",
          "state": {
            "_model_module": "@jupyter-widgets/controls",
            "_model_module_version": "1.5.0",
            "_model_name": "DescriptionStyleModel",
            "_view_count": null,
            "_view_module": "@jupyter-widgets/base",
            "_view_module_version": "1.2.0",
            "_view_name": "StyleView",
            "description_width": ""
          }
        },
        "b2fa05380c964133ac457861412970d3": {
          "model_module": "@jupyter-widgets/base",
          "model_name": "LayoutModel",
          "model_module_version": "1.2.0",
          "state": {
            "_model_module": "@jupyter-widgets/base",
            "_model_module_version": "1.2.0",
            "_model_name": "LayoutModel",
            "_view_count": null,
            "_view_module": "@jupyter-widgets/base",
            "_view_module_version": "1.2.0",
            "_view_name": "LayoutView",
            "align_content": null,
            "align_items": null,
            "align_self": null,
            "border": null,
            "bottom": null,
            "display": null,
            "flex": null,
            "flex_flow": null,
            "grid_area": null,
            "grid_auto_columns": null,
            "grid_auto_flow": null,
            "grid_auto_rows": null,
            "grid_column": null,
            "grid_gap": null,
            "grid_row": null,
            "grid_template_areas": null,
            "grid_template_columns": null,
            "grid_template_rows": null,
            "height": null,
            "justify_content": null,
            "justify_items": null,
            "left": null,
            "margin": null,
            "max_height": null,
            "max_width": null,
            "min_height": null,
            "min_width": null,
            "object_fit": null,
            "object_position": null,
            "order": null,
            "overflow": null,
            "overflow_x": null,
            "overflow_y": null,
            "padding": null,
            "right": null,
            "top": null,
            "visibility": null,
            "width": null
          }
        },
        "d090e33f199d448fbf81017a45d74199": {
          "model_module": "@jupyter-widgets/controls",
          "model_name": "ProgressStyleModel",
          "model_module_version": "1.5.0",
          "state": {
            "_model_module": "@jupyter-widgets/controls",
            "_model_module_version": "1.5.0",
            "_model_name": "ProgressStyleModel",
            "_view_count": null,
            "_view_module": "@jupyter-widgets/base",
            "_view_module_version": "1.2.0",
            "_view_name": "StyleView",
            "bar_color": null,
            "description_width": ""
          }
        },
        "9c38b879c39b414e93efef7609680c73": {
          "model_module": "@jupyter-widgets/base",
          "model_name": "LayoutModel",
          "model_module_version": "1.2.0",
          "state": {
            "_model_module": "@jupyter-widgets/base",
            "_model_module_version": "1.2.0",
            "_model_name": "LayoutModel",
            "_view_count": null,
            "_view_module": "@jupyter-widgets/base",
            "_view_module_version": "1.2.0",
            "_view_name": "LayoutView",
            "align_content": null,
            "align_items": null,
            "align_self": null,
            "border": null,
            "bottom": null,
            "display": null,
            "flex": null,
            "flex_flow": null,
            "grid_area": null,
            "grid_auto_columns": null,
            "grid_auto_flow": null,
            "grid_auto_rows": null,
            "grid_column": null,
            "grid_gap": null,
            "grid_row": null,
            "grid_template_areas": null,
            "grid_template_columns": null,
            "grid_template_rows": null,
            "height": null,
            "justify_content": null,
            "justify_items": null,
            "left": null,
            "margin": null,
            "max_height": null,
            "max_width": null,
            "min_height": null,
            "min_width": null,
            "object_fit": null,
            "object_position": null,
            "order": null,
            "overflow": null,
            "overflow_x": null,
            "overflow_y": null,
            "padding": null,
            "right": null,
            "top": null,
            "visibility": null,
            "width": null
          }
        },
        "5d0b45a3c1c24b138e2d511c3e006dee": {
          "model_module": "@jupyter-widgets/controls",
          "model_name": "DescriptionStyleModel",
          "model_module_version": "1.5.0",
          "state": {
            "_model_module": "@jupyter-widgets/controls",
            "_model_module_version": "1.5.0",
            "_model_name": "DescriptionStyleModel",
            "_view_count": null,
            "_view_module": "@jupyter-widgets/base",
            "_view_module_version": "1.2.0",
            "_view_name": "StyleView",
            "description_width": ""
          }
        },
        "d4bb82aace1e4f63b52fce40397fde7b": {
          "model_module": "@jupyter-widgets/controls",
          "model_name": "HBoxModel",
          "model_module_version": "1.5.0",
          "state": {
            "_dom_classes": [],
            "_model_module": "@jupyter-widgets/controls",
            "_model_module_version": "1.5.0",
            "_model_name": "HBoxModel",
            "_view_count": null,
            "_view_module": "@jupyter-widgets/controls",
            "_view_module_version": "1.5.0",
            "_view_name": "HBoxView",
            "box_style": "",
            "children": [
              "IPY_MODEL_bc4bccd6487548349ca55b08a9fcd2b5",
              "IPY_MODEL_369118f13c3a4611a9538d3328806ce3",
              "IPY_MODEL_16c1a8d2b69f460480ac108911c3e4d0"
            ],
            "layout": "IPY_MODEL_a6bfd10ec9cb4fd398c0879f63658e53"
          }
        },
        "bc4bccd6487548349ca55b08a9fcd2b5": {
          "model_module": "@jupyter-widgets/controls",
          "model_name": "HTMLModel",
          "model_module_version": "1.5.0",
          "state": {
            "_dom_classes": [],
            "_model_module": "@jupyter-widgets/controls",
            "_model_module_version": "1.5.0",
            "_model_name": "HTMLModel",
            "_view_count": null,
            "_view_module": "@jupyter-widgets/controls",
            "_view_module_version": "1.5.0",
            "_view_name": "HTMLView",
            "description": "",
            "description_tooltip": null,
            "layout": "IPY_MODEL_2f880dbf123946239ffe21fd3dd5dac8",
            "placeholder": "​",
            "style": "IPY_MODEL_d1cf0b5db54f40c78d82e72e991f68bd",
            "value": "Downloading: 100%"
          }
        },
        "369118f13c3a4611a9538d3328806ce3": {
          "model_module": "@jupyter-widgets/controls",
          "model_name": "FloatProgressModel",
          "model_module_version": "1.5.0",
          "state": {
            "_dom_classes": [],
            "_model_module": "@jupyter-widgets/controls",
            "_model_module_version": "1.5.0",
            "_model_name": "FloatProgressModel",
            "_view_count": null,
            "_view_module": "@jupyter-widgets/controls",
            "_view_module_version": "1.5.0",
            "_view_name": "ProgressView",
            "bar_style": "success",
            "description": "",
            "description_tooltip": null,
            "layout": "IPY_MODEL_2f18dff0e23140feb9f2cf47a16cab12",
            "max": 791656,
            "min": 0,
            "orientation": "horizontal",
            "style": "IPY_MODEL_f74aaae604a7444ca78c42c1d551702e",
            "value": 791656
          }
        },
        "16c1a8d2b69f460480ac108911c3e4d0": {
          "model_module": "@jupyter-widgets/controls",
          "model_name": "HTMLModel",
          "model_module_version": "1.5.0",
          "state": {
            "_dom_classes": [],
            "_model_module": "@jupyter-widgets/controls",
            "_model_module_version": "1.5.0",
            "_model_name": "HTMLModel",
            "_view_count": null,
            "_view_module": "@jupyter-widgets/controls",
            "_view_module_version": "1.5.0",
            "_view_name": "HTMLView",
            "description": "",
            "description_tooltip": null,
            "layout": "IPY_MODEL_a647d307fefc4212b06c25635fc98b3e",
            "placeholder": "​",
            "style": "IPY_MODEL_3c18e22ea830467ab6e1f08f3d211cba",
            "value": " 792k/792k [00:00&lt;00:00, 2.66MB/s]"
          }
        },
        "a6bfd10ec9cb4fd398c0879f63658e53": {
          "model_module": "@jupyter-widgets/base",
          "model_name": "LayoutModel",
          "model_module_version": "1.2.0",
          "state": {
            "_model_module": "@jupyter-widgets/base",
            "_model_module_version": "1.2.0",
            "_model_name": "LayoutModel",
            "_view_count": null,
            "_view_module": "@jupyter-widgets/base",
            "_view_module_version": "1.2.0",
            "_view_name": "LayoutView",
            "align_content": null,
            "align_items": null,
            "align_self": null,
            "border": null,
            "bottom": null,
            "display": null,
            "flex": null,
            "flex_flow": null,
            "grid_area": null,
            "grid_auto_columns": null,
            "grid_auto_flow": null,
            "grid_auto_rows": null,
            "grid_column": null,
            "grid_gap": null,
            "grid_row": null,
            "grid_template_areas": null,
            "grid_template_columns": null,
            "grid_template_rows": null,
            "height": null,
            "justify_content": null,
            "justify_items": null,
            "left": null,
            "margin": null,
            "max_height": null,
            "max_width": null,
            "min_height": null,
            "min_width": null,
            "object_fit": null,
            "object_position": null,
            "order": null,
            "overflow": null,
            "overflow_x": null,
            "overflow_y": null,
            "padding": null,
            "right": null,
            "top": null,
            "visibility": null,
            "width": null
          }
        },
        "2f880dbf123946239ffe21fd3dd5dac8": {
          "model_module": "@jupyter-widgets/base",
          "model_name": "LayoutModel",
          "model_module_version": "1.2.0",
          "state": {
            "_model_module": "@jupyter-widgets/base",
            "_model_module_version": "1.2.0",
            "_model_name": "LayoutModel",
            "_view_count": null,
            "_view_module": "@jupyter-widgets/base",
            "_view_module_version": "1.2.0",
            "_view_name": "LayoutView",
            "align_content": null,
            "align_items": null,
            "align_self": null,
            "border": null,
            "bottom": null,
            "display": null,
            "flex": null,
            "flex_flow": null,
            "grid_area": null,
            "grid_auto_columns": null,
            "grid_auto_flow": null,
            "grid_auto_rows": null,
            "grid_column": null,
            "grid_gap": null,
            "grid_row": null,
            "grid_template_areas": null,
            "grid_template_columns": null,
            "grid_template_rows": null,
            "height": null,
            "justify_content": null,
            "justify_items": null,
            "left": null,
            "margin": null,
            "max_height": null,
            "max_width": null,
            "min_height": null,
            "min_width": null,
            "object_fit": null,
            "object_position": null,
            "order": null,
            "overflow": null,
            "overflow_x": null,
            "overflow_y": null,
            "padding": null,
            "right": null,
            "top": null,
            "visibility": null,
            "width": null
          }
        },
        "d1cf0b5db54f40c78d82e72e991f68bd": {
          "model_module": "@jupyter-widgets/controls",
          "model_name": "DescriptionStyleModel",
          "model_module_version": "1.5.0",
          "state": {
            "_model_module": "@jupyter-widgets/controls",
            "_model_module_version": "1.5.0",
            "_model_name": "DescriptionStyleModel",
            "_view_count": null,
            "_view_module": "@jupyter-widgets/base",
            "_view_module_version": "1.2.0",
            "_view_name": "StyleView",
            "description_width": ""
          }
        },
        "2f18dff0e23140feb9f2cf47a16cab12": {
          "model_module": "@jupyter-widgets/base",
          "model_name": "LayoutModel",
          "model_module_version": "1.2.0",
          "state": {
            "_model_module": "@jupyter-widgets/base",
            "_model_module_version": "1.2.0",
            "_model_name": "LayoutModel",
            "_view_count": null,
            "_view_module": "@jupyter-widgets/base",
            "_view_module_version": "1.2.0",
            "_view_name": "LayoutView",
            "align_content": null,
            "align_items": null,
            "align_self": null,
            "border": null,
            "bottom": null,
            "display": null,
            "flex": null,
            "flex_flow": null,
            "grid_area": null,
            "grid_auto_columns": null,
            "grid_auto_flow": null,
            "grid_auto_rows": null,
            "grid_column": null,
            "grid_gap": null,
            "grid_row": null,
            "grid_template_areas": null,
            "grid_template_columns": null,
            "grid_template_rows": null,
            "height": null,
            "justify_content": null,
            "justify_items": null,
            "left": null,
            "margin": null,
            "max_height": null,
            "max_width": null,
            "min_height": null,
            "min_width": null,
            "object_fit": null,
            "object_position": null,
            "order": null,
            "overflow": null,
            "overflow_x": null,
            "overflow_y": null,
            "padding": null,
            "right": null,
            "top": null,
            "visibility": null,
            "width": null
          }
        },
        "f74aaae604a7444ca78c42c1d551702e": {
          "model_module": "@jupyter-widgets/controls",
          "model_name": "ProgressStyleModel",
          "model_module_version": "1.5.0",
          "state": {
            "_model_module": "@jupyter-widgets/controls",
            "_model_module_version": "1.5.0",
            "_model_name": "ProgressStyleModel",
            "_view_count": null,
            "_view_module": "@jupyter-widgets/base",
            "_view_module_version": "1.2.0",
            "_view_name": "StyleView",
            "bar_color": null,
            "description_width": ""
          }
        },
        "a647d307fefc4212b06c25635fc98b3e": {
          "model_module": "@jupyter-widgets/base",
          "model_name": "LayoutModel",
          "model_module_version": "1.2.0",
          "state": {
            "_model_module": "@jupyter-widgets/base",
            "_model_module_version": "1.2.0",
            "_model_name": "LayoutModel",
            "_view_count": null,
            "_view_module": "@jupyter-widgets/base",
            "_view_module_version": "1.2.0",
            "_view_name": "LayoutView",
            "align_content": null,
            "align_items": null,
            "align_self": null,
            "border": null,
            "bottom": null,
            "display": null,
            "flex": null,
            "flex_flow": null,
            "grid_area": null,
            "grid_auto_columns": null,
            "grid_auto_flow": null,
            "grid_auto_rows": null,
            "grid_column": null,
            "grid_gap": null,
            "grid_row": null,
            "grid_template_areas": null,
            "grid_template_columns": null,
            "grid_template_rows": null,
            "height": null,
            "justify_content": null,
            "justify_items": null,
            "left": null,
            "margin": null,
            "max_height": null,
            "max_width": null,
            "min_height": null,
            "min_width": null,
            "object_fit": null,
            "object_position": null,
            "order": null,
            "overflow": null,
            "overflow_x": null,
            "overflow_y": null,
            "padding": null,
            "right": null,
            "top": null,
            "visibility": null,
            "width": null
          }
        },
        "3c18e22ea830467ab6e1f08f3d211cba": {
          "model_module": "@jupyter-widgets/controls",
          "model_name": "DescriptionStyleModel",
          "model_module_version": "1.5.0",
          "state": {
            "_model_module": "@jupyter-widgets/controls",
            "_model_module_version": "1.5.0",
            "_model_name": "DescriptionStyleModel",
            "_view_count": null,
            "_view_module": "@jupyter-widgets/base",
            "_view_module_version": "1.2.0",
            "_view_name": "StyleView",
            "description_width": ""
          }
        },
        "a222cb18affb48babc3f00692fd4e187": {
          "model_module": "@jupyter-widgets/controls",
          "model_name": "HBoxModel",
          "model_module_version": "1.5.0",
          "state": {
            "_dom_classes": [],
            "_model_module": "@jupyter-widgets/controls",
            "_model_module_version": "1.5.0",
            "_model_name": "HBoxModel",
            "_view_count": null,
            "_view_module": "@jupyter-widgets/controls",
            "_view_module_version": "1.5.0",
            "_view_name": "HBoxView",
            "box_style": "",
            "children": [
              "IPY_MODEL_5fe28f39f3bb4168946c8826aa041567",
              "IPY_MODEL_093f54cde8a2412699a7eb9c868431ed",
              "IPY_MODEL_f2ba024347e545e8ab03339a4e4abe62"
            ],
            "layout": "IPY_MODEL_bb74ded09c6e43118620fad4e68570da"
          }
        },
        "5fe28f39f3bb4168946c8826aa041567": {
          "model_module": "@jupyter-widgets/controls",
          "model_name": "HTMLModel",
          "model_module_version": "1.5.0",
          "state": {
            "_dom_classes": [],
            "_model_module": "@jupyter-widgets/controls",
            "_model_module_version": "1.5.0",
            "_model_name": "HTMLModel",
            "_view_count": null,
            "_view_module": "@jupyter-widgets/controls",
            "_view_module_version": "1.5.0",
            "_view_name": "HTMLView",
            "description": "",
            "description_tooltip": null,
            "layout": "IPY_MODEL_03abfdf5cb9f4a7da14262cfb95621eb",
            "placeholder": "​",
            "style": "IPY_MODEL_967d1181fe1f4bf9af0b5073bd9608d4",
            "value": "Downloading: 100%"
          }
        },
        "093f54cde8a2412699a7eb9c868431ed": {
          "model_module": "@jupyter-widgets/controls",
          "model_name": "FloatProgressModel",
          "model_module_version": "1.5.0",
          "state": {
            "_dom_classes": [],
            "_model_module": "@jupyter-widgets/controls",
            "_model_module_version": "1.5.0",
            "_model_name": "FloatProgressModel",
            "_view_count": null,
            "_view_module": "@jupyter-widgets/controls",
            "_view_module_version": "1.5.0",
            "_view_name": "ProgressView",
            "bar_style": "success",
            "description": "",
            "description_tooltip": null,
            "layout": "IPY_MODEL_ae2d5c317320427ab01967e00ba8712b",
            "max": 1387438,
            "min": 0,
            "orientation": "horizontal",
            "style": "IPY_MODEL_74b5f3d6c8b0456ebfa1d13e01bdd6cc",
            "value": 1387438
          }
        },
        "f2ba024347e545e8ab03339a4e4abe62": {
          "model_module": "@jupyter-widgets/controls",
          "model_name": "HTMLModel",
          "model_module_version": "1.5.0",
          "state": {
            "_dom_classes": [],
            "_model_module": "@jupyter-widgets/controls",
            "_model_module_version": "1.5.0",
            "_model_name": "HTMLModel",
            "_view_count": null,
            "_view_module": "@jupyter-widgets/controls",
            "_view_module_version": "1.5.0",
            "_view_name": "HTMLView",
            "description": "",
            "description_tooltip": null,
            "layout": "IPY_MODEL_4b2c2f9e25c64d0a82db7cb98500a279",
            "placeholder": "​",
            "style": "IPY_MODEL_b354e9da2df040f6ab99fd300624af04",
            "value": " 1.39M/1.39M [00:00&lt;00:00, 2.93MB/s]"
          }
        },
        "bb74ded09c6e43118620fad4e68570da": {
          "model_module": "@jupyter-widgets/base",
          "model_name": "LayoutModel",
          "model_module_version": "1.2.0",
          "state": {
            "_model_module": "@jupyter-widgets/base",
            "_model_module_version": "1.2.0",
            "_model_name": "LayoutModel",
            "_view_count": null,
            "_view_module": "@jupyter-widgets/base",
            "_view_module_version": "1.2.0",
            "_view_name": "LayoutView",
            "align_content": null,
            "align_items": null,
            "align_self": null,
            "border": null,
            "bottom": null,
            "display": null,
            "flex": null,
            "flex_flow": null,
            "grid_area": null,
            "grid_auto_columns": null,
            "grid_auto_flow": null,
            "grid_auto_rows": null,
            "grid_column": null,
            "grid_gap": null,
            "grid_row": null,
            "grid_template_areas": null,
            "grid_template_columns": null,
            "grid_template_rows": null,
            "height": null,
            "justify_content": null,
            "justify_items": null,
            "left": null,
            "margin": null,
            "max_height": null,
            "max_width": null,
            "min_height": null,
            "min_width": null,
            "object_fit": null,
            "object_position": null,
            "order": null,
            "overflow": null,
            "overflow_x": null,
            "overflow_y": null,
            "padding": null,
            "right": null,
            "top": null,
            "visibility": null,
            "width": null
          }
        },
        "03abfdf5cb9f4a7da14262cfb95621eb": {
          "model_module": "@jupyter-widgets/base",
          "model_name": "LayoutModel",
          "model_module_version": "1.2.0",
          "state": {
            "_model_module": "@jupyter-widgets/base",
            "_model_module_version": "1.2.0",
            "_model_name": "LayoutModel",
            "_view_count": null,
            "_view_module": "@jupyter-widgets/base",
            "_view_module_version": "1.2.0",
            "_view_name": "LayoutView",
            "align_content": null,
            "align_items": null,
            "align_self": null,
            "border": null,
            "bottom": null,
            "display": null,
            "flex": null,
            "flex_flow": null,
            "grid_area": null,
            "grid_auto_columns": null,
            "grid_auto_flow": null,
            "grid_auto_rows": null,
            "grid_column": null,
            "grid_gap": null,
            "grid_row": null,
            "grid_template_areas": null,
            "grid_template_columns": null,
            "grid_template_rows": null,
            "height": null,
            "justify_content": null,
            "justify_items": null,
            "left": null,
            "margin": null,
            "max_height": null,
            "max_width": null,
            "min_height": null,
            "min_width": null,
            "object_fit": null,
            "object_position": null,
            "order": null,
            "overflow": null,
            "overflow_x": null,
            "overflow_y": null,
            "padding": null,
            "right": null,
            "top": null,
            "visibility": null,
            "width": null
          }
        },
        "967d1181fe1f4bf9af0b5073bd9608d4": {
          "model_module": "@jupyter-widgets/controls",
          "model_name": "DescriptionStyleModel",
          "model_module_version": "1.5.0",
          "state": {
            "_model_module": "@jupyter-widgets/controls",
            "_model_module_version": "1.5.0",
            "_model_name": "DescriptionStyleModel",
            "_view_count": null,
            "_view_module": "@jupyter-widgets/base",
            "_view_module_version": "1.2.0",
            "_view_name": "StyleView",
            "description_width": ""
          }
        },
        "ae2d5c317320427ab01967e00ba8712b": {
          "model_module": "@jupyter-widgets/base",
          "model_name": "LayoutModel",
          "model_module_version": "1.2.0",
          "state": {
            "_model_module": "@jupyter-widgets/base",
            "_model_module_version": "1.2.0",
            "_model_name": "LayoutModel",
            "_view_count": null,
            "_view_module": "@jupyter-widgets/base",
            "_view_module_version": "1.2.0",
            "_view_name": "LayoutView",
            "align_content": null,
            "align_items": null,
            "align_self": null,
            "border": null,
            "bottom": null,
            "display": null,
            "flex": null,
            "flex_flow": null,
            "grid_area": null,
            "grid_auto_columns": null,
            "grid_auto_flow": null,
            "grid_auto_rows": null,
            "grid_column": null,
            "grid_gap": null,
            "grid_row": null,
            "grid_template_areas": null,
            "grid_template_columns": null,
            "grid_template_rows": null,
            "height": null,
            "justify_content": null,
            "justify_items": null,
            "left": null,
            "margin": null,
            "max_height": null,
            "max_width": null,
            "min_height": null,
            "min_width": null,
            "object_fit": null,
            "object_position": null,
            "order": null,
            "overflow": null,
            "overflow_x": null,
            "overflow_y": null,
            "padding": null,
            "right": null,
            "top": null,
            "visibility": null,
            "width": null
          }
        },
        "74b5f3d6c8b0456ebfa1d13e01bdd6cc": {
          "model_module": "@jupyter-widgets/controls",
          "model_name": "ProgressStyleModel",
          "model_module_version": "1.5.0",
          "state": {
            "_model_module": "@jupyter-widgets/controls",
            "_model_module_version": "1.5.0",
            "_model_name": "ProgressStyleModel",
            "_view_count": null,
            "_view_module": "@jupyter-widgets/base",
            "_view_module_version": "1.2.0",
            "_view_name": "StyleView",
            "bar_color": null,
            "description_width": ""
          }
        },
        "4b2c2f9e25c64d0a82db7cb98500a279": {
          "model_module": "@jupyter-widgets/base",
          "model_name": "LayoutModel",
          "model_module_version": "1.2.0",
          "state": {
            "_model_module": "@jupyter-widgets/base",
            "_model_module_version": "1.2.0",
            "_model_name": "LayoutModel",
            "_view_count": null,
            "_view_module": "@jupyter-widgets/base",
            "_view_module_version": "1.2.0",
            "_view_name": "LayoutView",
            "align_content": null,
            "align_items": null,
            "align_self": null,
            "border": null,
            "bottom": null,
            "display": null,
            "flex": null,
            "flex_flow": null,
            "grid_area": null,
            "grid_auto_columns": null,
            "grid_auto_flow": null,
            "grid_auto_rows": null,
            "grid_column": null,
            "grid_gap": null,
            "grid_row": null,
            "grid_template_areas": null,
            "grid_template_columns": null,
            "grid_template_rows": null,
            "height": null,
            "justify_content": null,
            "justify_items": null,
            "left": null,
            "margin": null,
            "max_height": null,
            "max_width": null,
            "min_height": null,
            "min_width": null,
            "object_fit": null,
            "object_position": null,
            "order": null,
            "overflow": null,
            "overflow_x": null,
            "overflow_y": null,
            "padding": null,
            "right": null,
            "top": null,
            "visibility": null,
            "width": null
          }
        },
        "b354e9da2df040f6ab99fd300624af04": {
          "model_module": "@jupyter-widgets/controls",
          "model_name": "DescriptionStyleModel",
          "model_module_version": "1.5.0",
          "state": {
            "_model_module": "@jupyter-widgets/controls",
            "_model_module_version": "1.5.0",
            "_model_name": "DescriptionStyleModel",
            "_view_count": null,
            "_view_module": "@jupyter-widgets/base",
            "_view_module_version": "1.2.0",
            "_view_name": "StyleView",
            "description_width": ""
          }
        },
        "39d3447e90884d2fbb1c023b28a1921f": {
          "model_module": "@jupyter-widgets/controls",
          "model_name": "HBoxModel",
          "model_module_version": "1.5.0",
          "state": {
            "_dom_classes": [],
            "_model_module": "@jupyter-widgets/controls",
            "_model_module_version": "1.5.0",
            "_model_name": "HBoxModel",
            "_view_count": null,
            "_view_module": "@jupyter-widgets/controls",
            "_view_module_version": "1.5.0",
            "_view_name": "HBoxView",
            "box_style": "",
            "children": [
              "IPY_MODEL_029f029cffed4f08b2d68de7646e5a77",
              "IPY_MODEL_f6e4413038bf4b0998a92c180f1092f3",
              "IPY_MODEL_6cae56ea7910428eaede7824a71e9897"
            ],
            "layout": "IPY_MODEL_bfd943afbeff4b8a9fdc6873d4a0d1af"
          }
        },
        "029f029cffed4f08b2d68de7646e5a77": {
          "model_module": "@jupyter-widgets/controls",
          "model_name": "HTMLModel",
          "model_module_version": "1.5.0",
          "state": {
            "_dom_classes": [],
            "_model_module": "@jupyter-widgets/controls",
            "_model_module_version": "1.5.0",
            "_model_name": "HTMLModel",
            "_view_count": null,
            "_view_module": "@jupyter-widgets/controls",
            "_view_module_version": "1.5.0",
            "_view_name": "HTMLView",
            "description": "",
            "description_tooltip": null,
            "layout": "IPY_MODEL_59ed43d4abd24dc1aba3efdf0eec0d7c",
            "placeholder": "​",
            "style": "IPY_MODEL_00709402aba94821b92b56595b9f46a4",
            "value": "Downloading: 100%"
          }
        },
        "f6e4413038bf4b0998a92c180f1092f3": {
          "model_module": "@jupyter-widgets/controls",
          "model_name": "FloatProgressModel",
          "model_module_version": "1.5.0",
          "state": {
            "_dom_classes": [],
            "_model_module": "@jupyter-widgets/controls",
            "_model_module_version": "1.5.0",
            "_model_name": "FloatProgressModel",
            "_view_count": null,
            "_view_module": "@jupyter-widgets/controls",
            "_view_module_version": "1.5.0",
            "_view_name": "ProgressView",
            "bar_style": "success",
            "description": "",
            "description_tooltip": null,
            "layout": "IPY_MODEL_4fc9395f74174f8ba82ba9091d096296",
            "max": 1786,
            "min": 0,
            "orientation": "horizontal",
            "style": "IPY_MODEL_d2f627fa4860439a80384c28606b14ee",
            "value": 1786
          }
        },
        "6cae56ea7910428eaede7824a71e9897": {
          "model_module": "@jupyter-widgets/controls",
          "model_name": "HTMLModel",
          "model_module_version": "1.5.0",
          "state": {
            "_dom_classes": [],
            "_model_module": "@jupyter-widgets/controls",
            "_model_module_version": "1.5.0",
            "_model_name": "HTMLModel",
            "_view_count": null,
            "_view_module": "@jupyter-widgets/controls",
            "_view_module_version": "1.5.0",
            "_view_name": "HTMLView",
            "description": "",
            "description_tooltip": null,
            "layout": "IPY_MODEL_afd788f88c2a448ba6999f77ef3e0b43",
            "placeholder": "​",
            "style": "IPY_MODEL_4c728a9bba1943629cf74c694fbc7dec",
            "value": " 1.79k/1.79k [00:00&lt;00:00, 29.3kB/s]"
          }
        },
        "bfd943afbeff4b8a9fdc6873d4a0d1af": {
          "model_module": "@jupyter-widgets/base",
          "model_name": "LayoutModel",
          "model_module_version": "1.2.0",
          "state": {
            "_model_module": "@jupyter-widgets/base",
            "_model_module_version": "1.2.0",
            "_model_name": "LayoutModel",
            "_view_count": null,
            "_view_module": "@jupyter-widgets/base",
            "_view_module_version": "1.2.0",
            "_view_name": "LayoutView",
            "align_content": null,
            "align_items": null,
            "align_self": null,
            "border": null,
            "bottom": null,
            "display": null,
            "flex": null,
            "flex_flow": null,
            "grid_area": null,
            "grid_auto_columns": null,
            "grid_auto_flow": null,
            "grid_auto_rows": null,
            "grid_column": null,
            "grid_gap": null,
            "grid_row": null,
            "grid_template_areas": null,
            "grid_template_columns": null,
            "grid_template_rows": null,
            "height": null,
            "justify_content": null,
            "justify_items": null,
            "left": null,
            "margin": null,
            "max_height": null,
            "max_width": null,
            "min_height": null,
            "min_width": null,
            "object_fit": null,
            "object_position": null,
            "order": null,
            "overflow": null,
            "overflow_x": null,
            "overflow_y": null,
            "padding": null,
            "right": null,
            "top": null,
            "visibility": null,
            "width": null
          }
        },
        "59ed43d4abd24dc1aba3efdf0eec0d7c": {
          "model_module": "@jupyter-widgets/base",
          "model_name": "LayoutModel",
          "model_module_version": "1.2.0",
          "state": {
            "_model_module": "@jupyter-widgets/base",
            "_model_module_version": "1.2.0",
            "_model_name": "LayoutModel",
            "_view_count": null,
            "_view_module": "@jupyter-widgets/base",
            "_view_module_version": "1.2.0",
            "_view_name": "LayoutView",
            "align_content": null,
            "align_items": null,
            "align_self": null,
            "border": null,
            "bottom": null,
            "display": null,
            "flex": null,
            "flex_flow": null,
            "grid_area": null,
            "grid_auto_columns": null,
            "grid_auto_flow": null,
            "grid_auto_rows": null,
            "grid_column": null,
            "grid_gap": null,
            "grid_row": null,
            "grid_template_areas": null,
            "grid_template_columns": null,
            "grid_template_rows": null,
            "height": null,
            "justify_content": null,
            "justify_items": null,
            "left": null,
            "margin": null,
            "max_height": null,
            "max_width": null,
            "min_height": null,
            "min_width": null,
            "object_fit": null,
            "object_position": null,
            "order": null,
            "overflow": null,
            "overflow_x": null,
            "overflow_y": null,
            "padding": null,
            "right": null,
            "top": null,
            "visibility": null,
            "width": null
          }
        },
        "00709402aba94821b92b56595b9f46a4": {
          "model_module": "@jupyter-widgets/controls",
          "model_name": "DescriptionStyleModel",
          "model_module_version": "1.5.0",
          "state": {
            "_model_module": "@jupyter-widgets/controls",
            "_model_module_version": "1.5.0",
            "_model_name": "DescriptionStyleModel",
            "_view_count": null,
            "_view_module": "@jupyter-widgets/base",
            "_view_module_version": "1.2.0",
            "_view_name": "StyleView",
            "description_width": ""
          }
        },
        "4fc9395f74174f8ba82ba9091d096296": {
          "model_module": "@jupyter-widgets/base",
          "model_name": "LayoutModel",
          "model_module_version": "1.2.0",
          "state": {
            "_model_module": "@jupyter-widgets/base",
            "_model_module_version": "1.2.0",
            "_model_name": "LayoutModel",
            "_view_count": null,
            "_view_module": "@jupyter-widgets/base",
            "_view_module_version": "1.2.0",
            "_view_name": "LayoutView",
            "align_content": null,
            "align_items": null,
            "align_self": null,
            "border": null,
            "bottom": null,
            "display": null,
            "flex": null,
            "flex_flow": null,
            "grid_area": null,
            "grid_auto_columns": null,
            "grid_auto_flow": null,
            "grid_auto_rows": null,
            "grid_column": null,
            "grid_gap": null,
            "grid_row": null,
            "grid_template_areas": null,
            "grid_template_columns": null,
            "grid_template_rows": null,
            "height": null,
            "justify_content": null,
            "justify_items": null,
            "left": null,
            "margin": null,
            "max_height": null,
            "max_width": null,
            "min_height": null,
            "min_width": null,
            "object_fit": null,
            "object_position": null,
            "order": null,
            "overflow": null,
            "overflow_x": null,
            "overflow_y": null,
            "padding": null,
            "right": null,
            "top": null,
            "visibility": null,
            "width": null
          }
        },
        "d2f627fa4860439a80384c28606b14ee": {
          "model_module": "@jupyter-widgets/controls",
          "model_name": "ProgressStyleModel",
          "model_module_version": "1.5.0",
          "state": {
            "_model_module": "@jupyter-widgets/controls",
            "_model_module_version": "1.5.0",
            "_model_name": "ProgressStyleModel",
            "_view_count": null,
            "_view_module": "@jupyter-widgets/base",
            "_view_module_version": "1.2.0",
            "_view_name": "StyleView",
            "bar_color": null,
            "description_width": ""
          }
        },
        "afd788f88c2a448ba6999f77ef3e0b43": {
          "model_module": "@jupyter-widgets/base",
          "model_name": "LayoutModel",
          "model_module_version": "1.2.0",
          "state": {
            "_model_module": "@jupyter-widgets/base",
            "_model_module_version": "1.2.0",
            "_model_name": "LayoutModel",
            "_view_count": null,
            "_view_module": "@jupyter-widgets/base",
            "_view_module_version": "1.2.0",
            "_view_name": "LayoutView",
            "align_content": null,
            "align_items": null,
            "align_self": null,
            "border": null,
            "bottom": null,
            "display": null,
            "flex": null,
            "flex_flow": null,
            "grid_area": null,
            "grid_auto_columns": null,
            "grid_auto_flow": null,
            "grid_auto_rows": null,
            "grid_column": null,
            "grid_gap": null,
            "grid_row": null,
            "grid_template_areas": null,
            "grid_template_columns": null,
            "grid_template_rows": null,
            "height": null,
            "justify_content": null,
            "justify_items": null,
            "left": null,
            "margin": null,
            "max_height": null,
            "max_width": null,
            "min_height": null,
            "min_width": null,
            "object_fit": null,
            "object_position": null,
            "order": null,
            "overflow": null,
            "overflow_x": null,
            "overflow_y": null,
            "padding": null,
            "right": null,
            "top": null,
            "visibility": null,
            "width": null
          }
        },
        "4c728a9bba1943629cf74c694fbc7dec": {
          "model_module": "@jupyter-widgets/controls",
          "model_name": "DescriptionStyleModel",
          "model_module_version": "1.5.0",
          "state": {
            "_model_module": "@jupyter-widgets/controls",
            "_model_module_version": "1.5.0",
            "_model_name": "DescriptionStyleModel",
            "_view_count": null,
            "_view_module": "@jupyter-widgets/base",
            "_view_module_version": "1.2.0",
            "_view_name": "StyleView",
            "description_width": ""
          }
        }
      }
    }
  },
  "nbformat": 4,
  "nbformat_minor": 0
}